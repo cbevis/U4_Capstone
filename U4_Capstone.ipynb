{
 "cells": [
  {
   "cell_type": "code",
   "execution_count": null,
   "metadata": {},
   "outputs": [],
   "source": [
    "import numpy as np\n",
    "import pandas as pd\n",
    "import matplotlib.pyplot as plt\n",
    "import seaborn as sns\n",
    "import re\n",
    "import os\n",
    "\n",
    "from nltk.corpus import stopwords\n",
    "import spacy"
   ]
  },
  {
   "cell_type": "code",
   "execution_count": null,
   "metadata": {},
   "outputs": [],
   "source": [
    "with open('science_fiction/dick.txt') as file:  \n",
    "    dick = file.read()[100:] \n",
    "    #lines = file.readlines()\n",
    "    \n",
    "#with open()"
   ]
  },
  {
   "cell_type": "code",
   "execution_count": 14,
   "metadata": {},
   "outputs": [],
   "source": [
    "# Utility function for standard text cleaning\n",
    "def text_cleaner(text):\n",
    "    # Visual inspection identifies a form of punctuation spaCy does not\n",
    "    # recognize: the double dash '--'. \n",
    "    text = re.sub(r'--',' ',text)\n",
    "    \n",
    "    # Spacy thinks underscores are a new sentence\n",
    "    text = re.sub('_', ' ', text)\n",
    "    \n",
    "    # Remove text between brackets\n",
    "    text = re.sub('[\\[][\\S\\s]*?[\\]]', \"\", text)\n",
    "    \n",
    "    # Remove beginning of file Project Gutenberg info\n",
    "    text = re.sub('[\\S\\s]*(ILLUSTRATED BY .*)', '', text)\n",
    "    \n",
    "    # Different format for beginning\n",
    "    text = re.sub('[\\S\\s]*(Illustrated by .*)', '', text)\n",
    "    \n",
    "    \n",
    "    # Remove Project Gutenberg end of file info\n",
    "    text = re.sub('End of (the )*Project Gutenberg[\\S\\s]*', '', text)\n",
    "    \n",
    "    # Remove Project Gutenberg end of file info\n",
    "    text = re.sub('_Transcriber\\'s note_[\\S\\s]*', '', text)\n",
    "    \n",
    "    # Remove Project Gutenberg end of file info, different format\n",
    "    text = re.sub('TRANSCRIBER\\'S NOTE[\\S\\s]*', '', text)\n",
    "    \n",
    "    # One text ends with the author name\n",
    "    text = re.sub('=JACK McKENTY=[\\S\\s]*', '', text)\n",
    "    \n",
    "    # Remove story section separators\n",
    "    text = re.sub('(\\s*\\*){5}', '', text)\n",
    "    \n",
    "    # No illustrators in these ones\n",
    "    text = re.sub('[\\S\\s]*([Bb][Yy] L. J. STECHER, JR\\.)', '', text)\n",
    "    text = re.sub('[\\S\\s]*(by Mack Reynolds)', '', text)\n",
    "    \n",
    "    # Some texts end with END or THE END\n",
    "    text = re.sub('\\n(THE)* *(END)\\n[\\S\\s]*', '', text)\n",
    "    \n",
    "    # Some texts have roman numeral subdivisions, doesn't exceed III\n",
    "    text = re.sub('\\n[I]+\\n', '', text)\n",
    "    \n",
    "    text = re.sub('[\\n\\r]', ' ', text)\n",
    "    \n",
    "    # Remove extra whitespace\n",
    "    text = ' '.join(text.split())\n",
    "    return text"
   ]
  },
  {
   "cell_type": "code",
   "execution_count": null,
   "metadata": {},
   "outputs": [],
   "source": [
    "dick_clean = text_cleaner(dick)"
   ]
  },
  {
   "cell_type": "code",
   "execution_count": 17,
   "metadata": {},
   "outputs": [
    {
     "name": "stdout",
     "output_type": "stream",
     "text": [
      "text cleaned!\n",
      "text cleaned!\n",
      "text cleaned!\n",
      "text cleaned!\n",
      "text cleaned!\n",
      "text cleaned!\n",
      "text cleaned!\n",
      "text cleaned!\n",
      "text cleaned!\n",
      "text cleaned!\n",
      "text cleaned!\n",
      "text cleaned!\n",
      "text cleaned!\n",
      "text cleaned!\n",
      "text cleaned!\n",
      "text cleaned!\n",
      "text cleaned!\n",
      "text cleaned!\n",
      "text cleaned!\n",
      "text cleaned!\n",
      "text cleaned!\n",
      "text cleaned!\n",
      "text cleaned!\n"
     ]
    }
   ],
   "source": [
    "nlp = spacy.load('en_core_web_md')\n",
    "\n",
    "path = 'science_fiction/'\n",
    "filelist = os.listdir(path)\n",
    "sents = []\n",
    "\n",
    "for x in filelist:\n",
    "    if x.endswith('.txt'):\n",
    "        try:\n",
    "            with open(path + x, 'r') as file:\n",
    "                text = file.read()\n",
    "                text = text_cleaner(text)\n",
    "                print('text cleaned!')\n",
    "                text_nlp = nlp(text)\n",
    "                text_sents = [[sent, x[:-4]] for sent in text_nlp.sents]\n",
    "                sents += text_sents\n",
    "                #print(text_sents)\n",
    "        except:\n",
    "            print('Failed Text: {}'.format(x))\n",
    "            pass"
   ]
  },
  {
   "cell_type": "code",
   "execution_count": 18,
   "metadata": {},
   "outputs": [
    {
     "data": {
      "text/html": [
       "<div>\n",
       "<style scoped>\n",
       "    .dataframe tbody tr th:only-of-type {\n",
       "        vertical-align: middle;\n",
       "    }\n",
       "\n",
       "    .dataframe tbody tr th {\n",
       "        vertical-align: top;\n",
       "    }\n",
       "\n",
       "    .dataframe thead th {\n",
       "        text-align: right;\n",
       "    }\n",
       "</style>\n",
       "<table border=\"1\" class=\"dataframe\">\n",
       "  <thead>\n",
       "    <tr style=\"text-align: right;\">\n",
       "      <th></th>\n",
       "      <th>text_sentences</th>\n",
       "      <th>text</th>\n",
       "    </tr>\n",
       "  </thead>\n",
       "  <tbody>\n",
       "    <tr>\n",
       "      <th>0</th>\n",
       "      <td>(Ed, had, always, been, a, practical, man, ,, ...</td>\n",
       "      <td>dick2</td>\n",
       "    </tr>\n",
       "    <tr>\n",
       "      <th>1</th>\n",
       "      <td>(Then, one, day, he, saw, it, hanging, in, the...</td>\n",
       "      <td>dick2</td>\n",
       "    </tr>\n",
       "    <tr>\n",
       "      <th>2</th>\n",
       "      <td>(Five, o'clock, Ed, Loyce, washed, up, ,, toss...</td>\n",
       "      <td>dick2</td>\n",
       "    </tr>\n",
       "    <tr>\n",
       "      <th>3</th>\n",
       "      <td>(He, was, tired, .)</td>\n",
       "      <td>dick2</td>\n",
       "    </tr>\n",
       "    <tr>\n",
       "      <th>4</th>\n",
       "      <td>(His, back, and, shoulders, ached, from, diggi...</td>\n",
       "      <td>dick2</td>\n",
       "    </tr>\n",
       "  </tbody>\n",
       "</table>\n",
       "</div>"
      ],
      "text/plain": [
       "                                      text_sentences   text\n",
       "0  (Ed, had, always, been, a, practical, man, ,, ...  dick2\n",
       "1  (Then, one, day, he, saw, it, hanging, in, the...  dick2\n",
       "2  (Five, o'clock, Ed, Loyce, washed, up, ,, toss...  dick2\n",
       "3                                (He, was, tired, .)  dick2\n",
       "4  (His, back, and, shoulders, ached, from, diggi...  dick2"
      ]
     },
     "execution_count": 18,
     "metadata": {},
     "output_type": "execute_result"
    }
   ],
   "source": [
    "# Combine the setnences from the two novels into one data frame\n",
    "sentences = pd.DataFrame(sents)\n",
    "sentences.columns = ['text_sentences', 'text']\n",
    "sentences.to_csv('scifi.csv')\n",
    "sentences.head()"
   ]
  },
  {
   "cell_type": "code",
   "execution_count": 7,
   "metadata": {},
   "outputs": [
    {
     "data": {
      "text/plain": [
       "[]"
      ]
     },
     "execution_count": 7,
     "metadata": {},
     "output_type": "execute_result"
    }
   ],
   "source": [
    "sents"
   ]
  },
  {
   "cell_type": "code",
   "execution_count": null,
   "metadata": {},
   "outputs": [],
   "source": [
    "sentences[sentences['text']=='leinster'].tail(8)"
   ]
  },
  {
   "cell_type": "code",
   "execution_count": 16,
   "metadata": {},
   "outputs": [
    {
     "name": "stdout",
     "output_type": "stream",
     "text": [
      "text cleaned!\n",
      "[[Ed had always been a practical man, when he saw something was wrong he tried to correct it., 'dick2'], [Then one day he saw it hanging in the town square., 'dick2'], [Five o'clock Ed Loyce washed up, tossed on his hat and coat, got his car out and headed across town toward his TV sales store., 'dick2'], [He was tired., 'dick2'], [His back and shoulders ached from digging dirt out of the basement and wheeling it into the back yard., 'dick2'], [But for a forty-year-old man he had done, 'dick2'], [okay., 'dick2'], [Janet could get a new vase with the money he had saved; and he liked the idea of repairing the foundations himself!, 'dick2'], [It was getting dark., 'dick2'], [The setting sun cast long rays over the scurrying commuters, tired and grim-faced, women loaded down with bundles and packages, students swarming home from the university, mixing with clerks and businessmen and drab secretaries., 'dick2'], [He stopped his Packard for a red light and then started it up again., 'dick2'], [The store had been open without him; he'd arrive just in time to spell the help for dinner, go over the records of the day, maybe even close a couple of sales himself., 'dick2'], [He drove slowly past the small square of green in the center of the street, the town park., 'dick2'], [There were no parking places in front of LOYCE TV SALES AND SERVICE., 'dick2'], [He cursed under his breath and swung the car in a U-turn., 'dick2'], [Again he passed the little square of green with its lonely drinking fountain and bench and single lamppost., 'dick2'], [From the lamppost something was hanging., 'dick2'], [A shapeless dark bundle, swinging a little with the wind., 'dick2'], [Like a dummy of some sort., 'dick2'], [Loyce rolled down his window and peered out., 'dick2'], [What the hell was it?, 'dick2'], [A display of some kind?, 'dick2'], [Sometimes the Chamber of Commerce put up displays in the square., 'dick2'], [Again he made a U-turn and brought his car around., 'dick2'], [He passed the park and concentrated on the dark bundle., 'dick2'], [It wasn't a dummy., 'dick2'], [And if it was a display it was a strange kind., 'dick2'], [The hackles on his neck rose and he swallowed uneasily., 'dick2'], [Sweat slid out on his face and hands., 'dick2'], [It was a body., 'dick2'], [A human body. \", 'dick2'], [Look at it!\", 'dick2'], [Loyce snapped., 'dick2'], [\"Come on out here!\", 'dick2'], [Don Fergusson came slowly out of the store, buttoning his pin-stripe coat with dignity., 'dick2'], [\"This is a big deal, Ed., 'dick2'], [I can't just leave the guy standing there.\", 'dick2'], [\"See it?\", 'dick2'], [Ed pointed into the gathering gloom., 'dick2'], [The lamppost jutted up against the sky the post and the bundle swinging from it., 'dick2'], [\"There it is., 'dick2'], [How the hell long has it been there?, 'dick2'], [\" His voice rose excitedly., 'dick2'], [\"What's wrong with everybody?, 'dick2'], [They just walk on past!\", 'dick2'], [Don Fergusson lit a cigarette slowly., 'dick2'], [\"Take it easy, old man., 'dick2'], [There must be a good reason, or it wouldn't be there.\", 'dick2'], [\"A reason!, 'dick2'], [What kind of a reason?\", 'dick2'], [Fergusson shrugged., 'dick2'], [\", 'dick2'], [Like the time the Traffic Safety Council put that wrecked Buick there., 'dick2'], [Some sort of civic thing., 'dick2'], [How would I know?\", 'dick2'], [Jack Potter from the shoe shop joined them., 'dick2'], [\"What's up, boys?\", 'dick2'], [\"There's a body hanging from the lamppost,\" Loyce said., 'dick2'], [\"I'm going to call the cops.\", 'dick2'], [\"They must know about it,\" Potter said., 'dick2'], [\"Or otherwise it wouldn't be there.\", 'dick2'], [\"I got to get back in.\", 'dick2'], [Fergusson headed back into the store., 'dick2'], [\"Business before pleasure.\", 'dick2'], [Loyce began to get hysterical., 'dick2'], [\"You see it?, 'dick2'], [You see it hanging there?, 'dick2'], [A man's body!, 'dick2'], [A dead man!\", 'dick2'], [\"Sure, Ed., 'dick2'], [I saw it this afternoon when I went out for coffee.\", 'dick2'], [\"You mean it's been there all afternoon?\", 'dick2'], [\"Sure., 'dick2'], [What's the matter?\", 'dick2'], [Potter glanced at his watch. \", 'dick2'], [Have to run., 'dick2'], [See you later, Ed.\", 'dick2'], [Potter hurried off, joining the flow of people moving along the sidewalk., 'dick2'], [Men and women, passing by the park., 'dick2'], [A few glanced up curiously at the dark bundle and then went on., 'dick2'], [Nobody stopped., 'dick2'], [Nobody paid any attention., 'dick2'], [\"I'm going nuts,\" Loyce whispered., 'dick2'], [He made his way to the curb and crossed out into traffic, among the cars., 'dick2'], [Horns honked angrily at him., 'dick2'], [He gained the curb and stepped up onto the little square of green., 'dick2'], [The man had been middle-aged., 'dick2'], [His clothing was ripped and torn, a gray suit, splashed and caked with dried mud., 'dick2'], [A stranger., 'dick2'], [Loyce had never seen him before., 'dick2'], [Not a local man., 'dick2'], [His face was partly turned, away, and in the evening wind he spun a little, turning gently, silently., 'dick2'], [His skin was gouged and cut., 'dick2'], [Red gashes, deep scratches of congealed blood., 'dick2'], [A pair of steel-rimmed glasses hung from one ear, dangling foolishly., 'dick2'], [His eyes bulged., 'dick2'], [His mouth was open, tongue thick and ugly blue. \", 'dick2'], [For Heaven's sake,\" Loyce muttered, sickened., 'dick2'], [He pushed down his nausea and made his way back to the sidewalk., 'dick2'], [He was shaking all over, with revulsion and fear., 'dick2'], [Why?, 'dick2'], [Who was the man?, 'dick2'], [Why was he hanging there?, 'dick2'], [What did it mean?, 'dick2'], [And why didn't anybody notice?, 'dick2'], [He bumped into a small man hurrying along the sidewalk. \", 'dick2'], [Watch it!\", 'dick2'], [the man grated, \"Oh, it's you, Ed.\", 'dick2'], [Ed nodded dazedly., 'dick2'], [\", 'dick2'], [Hello, Jenkins.\", 'dick2'], [\"What's the matter?\", 'dick2'], [The stationery clerk caught Ed's arm., 'dick2'], [\"You look sick.\", 'dick2'], [\"The body., 'dick2'], [There in the park.\", 'dick2'], [\"Sure, Ed.\", 'dick2'], [Jenkins led him into the alcove of LOYCE TV SALES AND SERVICE., 'dick2'], [\"Take it easy.\", 'dick2'], [Margaret Henderson from the jewelry store joined them., 'dick2'], [\"Something wrong?\", 'dick2'], [\"Ed's not feeling well.\", 'dick2'], [Loyce yanked himself free., 'dick2'], [\"How can you stand here?, 'dick2'], [Don't you see it?, 'dick2'], [For God's sake \" \"What's he talking about?\", 'dick2'], [Margaret asked nervously., 'dick2'], [\"The body!\", 'dick2'], [Ed shouted., 'dick2'], [\"The body hanging there!\", 'dick2'], [More people collected., 'dick2'], [\"Is he sick?, 'dick2'], [It's Ed Loyce., 'dick2'], [You okay, Ed?\", 'dick2'], [\"The body!\", 'dick2'], [Loyce screamed, struggling to get past them., 'dick2'], [Hands caught at him., 'dick2'], [He tore loose., 'dick2'], [\"Let me go!, 'dick2'], [The police!, 'dick2'], [Get the police!\", 'dick2'], [\"Ed \" \"Better get a doctor!\", 'dick2'], [\"He must be sick.\", 'dick2'], [\"Or drunk.\", 'dick2'], [Loyce fought his way through the people., 'dick2'], [He stumbled and half fell., 'dick2'], [Through a blur he saw rows of faces, curious, concerned, anxious., 'dick2'], [Men and women halting to see what the disturbance was., 'dick2'], [He fought past them toward his store., 'dick2'], [He could see Fergusson inside talking to a man, showing him an Emerson TV set., 'dick2'], [Pete Foley in the back at the service counter, setting up a new Philco., 'dick2'], [Loyce shouted at them frantically., 'dick2'], [His voice was lost in the roar of traffic and the murmur around him. \", 'dick2'], [Do something!\", 'dick2'], [he screamed., 'dick2'], [\"Don't stand there!, 'dick2'], [Do something!, 'dick2'], [Something's wrong!, 'dick2'], [Something's happened!, 'dick2'], [Things are going on!, 'dick2'], [\" The crowd melted respectfully for the two heavy-set cops moving efficiently toward Loyce. \", 'dick2'], [Name?, 'dick2'], [\" the cop with the notebook murmured., 'dick2'], [\"Loyce.\", 'dick2'], [He mopped his forehead wearily. \", 'dick2'], [Edward C. Loyce., 'dick2'], [Listen to me., 'dick2'], [Back there \" \", 'dick2'], [Address?, 'dick2'], [\" the cop demanded., 'dick2'], [The police car moved swiftly through traffic, shooting among the cars and buses., 'dick2'], [Loyce sagged against the seat, exhausted and confused., 'dick2'], [He took a deep shuddering breath. \", 'dick2'], [1368 Hurst Road.\", 'dick2'], [\"That's here in Pikeville?\", 'dick2'], [\"That's right.\", 'dick2'], [Loyce pulled himself up with a violent effort., 'dick2'], [\"Listen to me., 'dick2'], [Back there., 'dick2'], [In the square., 'dick2'], [Hanging from the lamppost \", 'dick2'], [\"Where were you today?\" the cop behind the wheel demanded., 'dick2'], [\"Where?\", 'dick2'], [Loyce echoed., 'dick2'], [\"You weren't in your shop, were you?\", 'dick2'], [\"No.\", 'dick2'], [He shook his head., 'dick2'], [\", 'dick2'], [No, I was home., 'dick2'], [Down in the basement.\", 'dick2'], [\"In the basement ?\" \"Digging., 'dick2'], [A new foundation., 'dick2'], [Getting out the dirt to pour a cement frame., 'dick2'], [Why?, 'dick2'], [What has that to do with \" \"Was anybody else down there with you?\", 'dick2'], [\"No., 'dick2'], [My wife was downtown., 'dick2'], [My kids were at school.\", 'dick2'], [Loyce looked from one heavy-set cop to the other., 'dick2'], [Hope flicked across his face, wild hope., 'dick2'], [\"You mean because I was down there, 'dick2'], [I missed the explanation?, 'dick2'], [I didn't get in on it?, 'dick2'], [Like everybody else?\", 'dick2'], [After a pause the cop with the notebook said: \"That's right., 'dick2'], [You missed the explanation.\", 'dick2'], [\"Then it's official?, 'dick2'], [The body it's supposed to be hanging there?\", 'dick2'], [\"It's supposed to be hanging there., 'dick2'], [For everybody to see.\", 'dick2'], [Ed Loyce grinned weakly., 'dick2'], [\", 'dick2'], [Good Lord., 'dick2'], [I guess I sort of went off the deep end., 'dick2'], [I thought maybe something had happened., 'dick2'], [You know, something like the Ku Klux Klan., 'dick2'], [Some kind of violence., 'dick2'], [Communists or Fascists taking over.\", 'dick2'], [He wiped his face with his breast-pocket handkerchief, his hands shaking., 'dick2'], [\"I'm glad to know it's on the level.\", 'dick2'], [\"It's on the level.\", 'dick2'], [The police car was getting near the Hall of Justice., 'dick2'], [The sun had set., 'dick2'], [The streets were gloomy and dark., 'dick2'], [The lights had not yet come on., 'dick2'], [\"I feel better,\" Loyce said., 'dick2'], [\"I was pretty excited there, for a minute., 'dick2'], [I guess I got all stirred up., 'dick2'], [Now that I understand, there's no need to take me in, is there?, 'dick2'], [\" The two cops said nothing., 'dick2'], [\"I should be back at my store., 'dick2'], [The boys haven't had dinner., 'dick2'], [I'm all right, now., 'dick2'], [No more trouble., 'dick2'], [Is there any need of \" \"This won't take long,\" the cop behind the wheel interrupted. \", 'dick2'], [A short process., 'dick2'], [Only a few minutes., 'dick2'], [\", 'dick2'], [\"I hope it's short,\" Loyce muttered., 'dick2'], [The car slowed down for a stoplight., 'dick2'], [\"I guess I sort of disturbed the peace., 'dick2'], [Funny, getting excited like that and \" Loyce yanked the door open., 'dick2'], [He sprawled out into the street and rolled to his feet., 'dick2'], [Cars were moving all around him, gaining speed as the light changed., 'dick2'], [Loyce leaped onto the curb and raced among the people, burrowing into the swarming crowds., 'dick2'], [Behind him he heard sounds, shouts, people running., 'dick2'], [They weren't cops., 'dick2'], [He had realized that right away., 'dick2'], [He knew every cop in Pikeville., 'dick2'], [A man couldn't own a store, operate a business in a small town for twenty-five years without getting to know all the cops., 'dick2'], [They weren't cops and there hadn't been any explanation., 'dick2'], [Potter, Fergusson, Jenkins, none of them knew why it was there., 'dick2'], [They didn't know, 'dick2'], [and they didn't care., 'dick2'], [That was the strange part., 'dick2'], [Loyce ducked into a hardware store., 'dick2'], [He raced toward the back, past the startled clerks and customers, into the shipping room and through the back door., 'dick2'], [He tripped over a garbage can and ran up a flight of concrete steps., 'dick2'], [He climbed over a fence and jumped down on the other side, gasping and panting., 'dick2'], [There was no sound behind him., 'dick2'], [He had got away., 'dick2'], [He was at the entrance of an alley, dark and strewn with boards and ruined boxes and tires., 'dick2'], [He could see the street at the far end., 'dick2'], [A street light wavered and came on., 'dick2'], [Men and women., 'dick2'], [Stores., 'dick2'], [Neon signs., 'dick2'], [Cars., 'dick2'], [And to his right the police station., 'dick2'], [He was close, terribly close., 'dick2'], [Past the loading platform of a grocery store rose the white concrete side of the Hall of Justice., 'dick2'], [Barred windows., 'dick2'], [The police antenna., 'dick2'], [A great concrete wall rising up in the darkness., 'dick2'], [A bad place for him to be near., 'dick2'], [He was too close., 'dick2'], [He had to keep moving, get farther away from them., 'dick2'], [Them?, 'dick2'], [Loyce moved cautiously down the alley., 'dick2'], [Beyond the police station was the City Hall, the old-fashioned yellow structure of wood and gilded brass and broad cement steps., 'dick2'], [He could see the endless rows of offices, dark windows, the cedars and beds of flowers on each side of the entrance., 'dick2'], [And something else., 'dick2'], [Above the City Hall was a patch of darkness, a cone of gloom denser than the surrounding night., 'dick2'], [A prism of black that spread out and was lost into the sky., 'dick2'], [He listened., 'dick2'], [Good God, he could hear something., 'dick2'], [Something that made him struggle frantically to close his ears, his mind, to shut out the sound., 'dick2'], [A buzzing., 'dick2'], [A distant, muted hum like a great swarm of bees., 'dick2'], [Loyce gazed up, rigid with horror., 'dick2'], [The splotch of darkness, hanging over the City Hall., 'dick2'], [Darkness so thick, 'dick2'], [it seemed almost solid., 'dick2'], [In the vortex something moved., 'dick2'], [Flickering shapes., 'dick2'], [Things, descending from the sky, pausing momentarily above the City Hall, fluttering over it in a dense swarm and then dropping silently onto the roof., 'dick2'], [Shapes., 'dick2'], [Fluttering shapes from the sky., 'dick2'], [From the crack of darkness that hung above him., 'dick2'], [He was seeing them., 'dick2'], [For a long time Loyce watched, crouched behind a sagging fence in a pool of scummy water., 'dick2'], [They were landing., 'dick2'], [Coming down in groups, landing on the roof of the City Hall and disappearing inside., 'dick2'], [They had wings., 'dick2'], [Like giant insects of some kind., 'dick2'], [They flew and fluttered and came to rest and then crawled crab-fashion, sideways, across the roof and into the building., 'dick2'], [He was sickened., 'dick2'], [And fascinated., 'dick2'], [Cold night wind blew around him and he shuddered., 'dick2'], [He was tired, dazed with shock., 'dick2'], [On the front steps of the City Hall were men, standing here and there., 'dick2'], [Groups of men coming out of the building and halting for a moment before going on., 'dick2'], [Were there more of them?, 'dick2'], [It didn't seem possible., 'dick2'], [What he saw descending from the black chasm weren't men., 'dick2'], [They were alien from some other world, some other dimension., 'dick2'], [Sliding through this slit, this break in the shell of the universe., 'dick2'], [Entering through this gap, winged insects from another realm of being., 'dick2'], [On the steps of the City Hall a group of men broke up., 'dick2'], [A few moved toward a waiting car., 'dick2'], [One of the remaining shapes started to re-enter the City Hall., 'dick2'], [It changed its mind and turned to follow the others., 'dick2'], [Loyce closed his eyes in horror., 'dick2'], [His senses reeled., 'dick2'], [He hung on tight, clutching at the sagging fence., 'dick2'], [The shape, the man-shape, had abruptly fluttered up and flapped after the others., 'dick2'], [It flew to the sidewalk and came to rest among them., 'dick2'], [Pseudo-men., 'dick2'], [Imitation men., 'dick2'], [Insects with ability to disguise themselves as men., 'dick2'], [Like other insects familiar to Earth., 'dick2'], [Protective coloration., 'dick2'], [Mimicry., 'dick2'], [Loyce pulled himself away., 'dick2'], [He got slowly to his feet., 'dick2'], [It was night., 'dick2'], [The alley was totally dark., 'dick2'], [But maybe they could see in the dark., 'dick2'], [Maybe darkness made no difference to them., 'dick2'], [He left the alley cautiously and moved out onto the street., 'dick2'], [Men and women flowed past, but not so many, now., 'dick2'], [At the bus-stops stood waiting groups., 'dick2'], [A huge bus lumbered along the street, its lights flashing in the evening gloom., 'dick2'], [Loyce moved forward., 'dick2'], [He pushed his way among those waiting and when the bus halted he boarded it and took a seat in the rear, by the door., 'dick2'], [A moment later the bus moved into life and rumbled down the street., 'dick2'], [Loyce relaxed a little., 'dick2'], [He studied the people around him., 'dick2'], [Dulled, tired faces., 'dick2'], [People going home from work., 'dick2'], [Quite ordinary faces., 'dick2'], [None of them paid any attention to him., 'dick2'], [All sat quietly, sunk down in their seats, jiggling with the motion of the bus., 'dick2'], [The man sitting next to him unfolded a newspaper., 'dick2'], [He began to read the sports section, his lips moving., 'dick2'], [An ordinary man., 'dick2'], [Blue suit., 'dick2'], [Tie., 'dick2'], [A businessman, or a salesman., 'dick2'], [On his way home to his wife and family., 'dick2'], [Across the aisle a young woman, perhaps twenty., 'dick2'], [Dark eyes and hair, a package on her lap., 'dick2'], [Nylons and heels., 'dick2'], [Red coat and white angora sweater., 'dick2'], [Gazing absently ahead of her., 'dick2'], [A high school boy in jeans and black jacket., 'dick2'], [A great triple-chinned woman with an immense shopping bag loaded with packages and parcels., 'dick2'], [Her thick face dim with weariness., 'dick2'], [Ordinary people., 'dick2'], [The kind that rode the bus every evening., 'dick2'], [Going home to their families., 'dick2'], [To dinner., 'dick2'], [Going home with their minds dead., 'dick2'], [Controlled, filmed over with the mask of an alien being that had appeared and taken possession of them, their town, their lives., 'dick2'], [Himself, too., 'dick2'], [Except that he happened to be deep in his cellar instead of in the store., 'dick2'], [Somehow, he had been overlooked., 'dick2'], [They had missed him., 'dick2'], [Their control wasn't perfect, foolproof., 'dick2'], [Maybe there were others., 'dick2'], [Hope flickered in Loyce., 'dick2'], [They weren't omnipotent., 'dick2'], [They had made a mistake, not got control of him., 'dick2'], [Their net, their field of control, had passed over him., 'dick2'], [He had emerged from his cellar as he had gone down., 'dick2'], [Apparently their power-zone was limited., 'dick2'], [A few seats down the aisle a man was watching him., 'dick2'], [Loyce broke off his chain of thought., 'dick2'], [A slender man, with dark hair and a small mustache., 'dick2'], [Well-dressed, brown suit and shiny shoes., 'dick2'], [A book between his small hands., 'dick2'], [He was watching Loyce, studying him intently., 'dick2'], [He turned quickly away., 'dick2'], [Loyce tensed., 'dick2'], [One of them ?, 'dick2'], [Or another they had missed?, 'dick2'], [The man was watching him again., 'dick2'], [Small dark eyes, alive and clever., 'dick2'], [Shrewd., 'dick2'], [A man too shrewd for them or one of the things itself, an alien insect from beyond., 'dick2'], [The bus halted., 'dick2'], [An elderly man got on slowly and dropped his token into the box., 'dick2'], [He moved down the aisle and took a seat opposite Loyce., 'dick2'], [The elderly man caught the sharp-eyed man's gaze., 'dick2'], [For a split second something passed between them., 'dick2'], [A look rich with meaning., 'dick2'], [Loyce got to his feet., 'dick2'], [The bus was moving., 'dick2'], [He ran to the door., 'dick2'], [One step down into the well., 'dick2'], [He yanked the emergency door release., 'dick2'], [The rubber door swung open. \", 'dick2'], [Hey!\", 'dick2'], [the driver shouted, jamming on the brakes., 'dick2'], [\"What the hell \" Loyce squirmed through., 'dick2'], [The bus was slowing down., 'dick2'], [Houses on all sides., 'dick2'], [A residential district, lawns and tall apartment buildings., 'dick2'], [Behind him, the bright-eyed man had leaped up., 'dick2'], [The elderly man was also on his feet., 'dick2'], [They were coming after him., 'dick2'], [Loyce leaped., 'dick2'], [He hit the pavement with terrific force and rolled against the curb., 'dick2'], [Pain lapped over him., 'dick2'], [Pain and a vast tide of blackness., 'dick2'], [Desperately, he fought it off., 'dick2'], [He struggled to his knees and then slid down again., 'dick2'], [The bus had stopped., 'dick2'], [People were getting off., 'dick2'], [Loyce groped around., 'dick2'], [His fingers closed over something., 'dick2'], [A rock, lying in the gutter., 'dick2'], [He crawled to his feet, grunting with pain., 'dick2'], [A shape loomed before him., 'dick2'], [A man, the bright-eyed man with the book., 'dick2'], [Loyce kicked., 'dick2'], [The man gasped and fell., 'dick2'], [Loyce brought the rock down., 'dick2'], [The man screamed and tried to roll away. \", 'dick2'], [Stop!, 'dick2'], [For God's sake listen \" He struck again., 'dick2'], [A hideous crunching sound., 'dick2'], [The man's voice cut off and dissolved in a bubbling wail., 'dick2'], [Loyce scrambled up and back., 'dick2'], [The others were there, now., 'dick2'], [All around him., 'dick2'], [He ran, awkwardly, down the sidewalk, up a driveway., 'dick2'], [None of them followed him., 'dick2'], [They had stopped and were bending over the inert body of the man with the book, the bright-eyed man who had come after him., 'dick2'], [Had he made a mistake?, 'dick2'], [But it was too late to worry about that., 'dick2'], [He had to get out away from them., 'dick2'], [Out of Pikeville, beyond the crack of darkness, the rent between their world and his. \", 'dick2'], [Ed!\", 'dick2'], [Janet Loyce backed away nervously., 'dick2'], [\"What is it?, 'dick2'], [What \" Ed Loyce slammed the door behind him and came into the living room., 'dick2'], [\"Pull down the shades., 'dick2'], [Quick.\", 'dick2'], [Janet moved toward the window., 'dick2'], [\"But \" \"Do as I say., 'dick2'], [Who else is here besides you?\", 'dick2'], [\"Nobody., 'dick2'], [Just the twins., 'dick2'], [They're upstairs in their room., 'dick2'], [What's happened?, 'dick2'], [You look so strange., 'dick2'], [Why are you home?, 'dick2'], [\" Ed locked the front door., 'dick2'], [He prowled around the house, into the kitchen., 'dick2'], [From the drawer under the sink he slid out the big butcher knife and ran his finger along it., 'dick2'], [Sharp., 'dick2'], [Plenty sharp., 'dick2'], [He returned to the living room., 'dick2'], [\"Listen to me,\" he said., 'dick2'], [\"I don't have much time., 'dick2'], [They know I escaped and they'll be looking for me.\", 'dick2'], [\"Escaped?\", 'dick2'], [Janet's face twisted with bewilderment and fear., 'dick2'], [\"Who?\", 'dick2'], [\"The town has been taken over., 'dick2'], [They're in control., 'dick2'], [I've got it pretty well figured out., 'dick2'], [They started at the top, at the City Hall and police department., 'dick2'], [What they did with the real humans they \" \"What are you talking about?\", 'dick2'], [\"We've been invaded., 'dick2'], [From some other universe, some other dimension., 'dick2'], [They're insects., 'dick2'], [Mimicry., 'dick2'], [And more., 'dick2'], [Power to control minds., 'dick2'], [Your mind.\", 'dick2'], [\"My mind?\", 'dick2'], [\"Their entrance is here , in Pikeville., 'dick2'], [They've taken over all of you., 'dick2'], [The whole town except me., 'dick2'], [We're up against an incredibly powerful enemy, but they have their limitations., 'dick2'], [That's our hope., 'dick2'], [They're limited!, 'dick2'], [They can make mistakes!\", 'dick2'], [Janet shook her head., 'dick2'], [\"I don't understand, Ed., 'dick2'], [You must be insane.\", 'dick2'], [\"Insane?, 'dick2'], [No., 'dick2'], [Just lucky., 'dick2'], [If I hadn't been down in the basement I'd be like all the rest of you.\", 'dick2'], [Loyce peered out the window. \", 'dick2'], [But I can't stand here talking., 'dick2'], [Get your coat.\", 'dick2'], [\"My coat?\", 'dick2'], [\"We're getting out of here., 'dick2'], [Out of Pikeville., 'dick2'], [We've got to get help., 'dick2'], [Fight this thing., 'dick2'], [They can be beaten., 'dick2'], [They're not infallible., 'dick2'], [It's going to be close but we may make it if we hurry., 'dick2'], [Come on!\", 'dick2'], [He grabbed her arm roughly., 'dick2'], [\"Get your coat and call the twins., 'dick2'], [We're all leaving., 'dick2'], [Don't stop to pack., 'dick2'], [There's no time for that., 'dick2'], [\" White-faced, his wife moved toward the closet and got down her coat., 'dick2'], [\"Where are we going?\", 'dick2'], [Ed pulled open the desk drawer and spilled the contents out onto the floor., 'dick2'], [He grabbed up a road map and spread it open., 'dick2'], [\"They'll have the highway covered, of course., 'dick2'], [But there's a back road., 'dick2'], [To Oak Grove., 'dick2'], [I got onto it once., 'dick2'], [It's practically abandoned., 'dick2'], [Maybe they'll forget about it.\", 'dick2'], [\"The old Ranch Road?, 'dick2'], [Good Lord it's completely closed., 'dick2'], [Nobody's supposed to drive over it.\", 'dick2'], [\"I know., 'dick2'], [\" Ed thrust the map grimly into his coat., 'dick2'], [\"That's our best chance., 'dick2'], [Now call down the twins and let's get going., 'dick2'], [Your car is full of gas, isn't it?\", 'dick2'], [Janet was dazed., 'dick2'], [\"The Chevy?, 'dick2'], [I had it filled up yesterday afternoon.\", 'dick2'], [Janet moved toward the stairs., 'dick2'], [\"Ed, I \" \"Call the twins!\", 'dick2'], [Ed unlocked the front door and peered out., 'dick2'], [Nothing stirred., 'dick2'], [No sign of life., 'dick2'], [All right so far., 'dick2'], [\"Come on downstairs,\" Janet called in a wavering voice., 'dick2'], [\"We're going out for awhile.\", 'dick2'], [\"Now?\" Tommy's voice came., 'dick2'], [\"Hurry up,\" Ed barked., 'dick2'], [\"Get down here, both of you.\", 'dick2'], [Tommy appeared at the top of the stairs., 'dick2'], [\"I was doing my home work., 'dick2'], [We're starting fractions., 'dick2'], [Miss Parker says if we don't get this done \" \"You can forget about fractions., 'dick2'], [\" Ed grabbed his son as he came down the stairs and propelled him toward the door., 'dick2'], [\", 'dick2'], [Where's Jim?\", 'dick2'], [\"He's coming.\", 'dick2'], [Jim started slowly down the stairs., 'dick2'], [\"What's up, Dad?\", 'dick2'], [\"We're going for a ride.\", 'dick2'], [\"A ride?, 'dick2'], [Where?, 'dick2'], [\" Ed turned to Janet., 'dick2'], [\"We'll leave the lights on., 'dick2'], [And the TV set., 'dick2'], [Go turn it on.\", 'dick2'], [He pushed her toward the set. \", 'dick2'], [So they'll think we're still \", 'dick2'], [He heard the buzz., 'dick2'], [And dropped instantly, the long butcher knife out., 'dick2'], [Sickened, he saw it coming down the stairs at him, wings a blur of motion as it aimed itself., 'dick2'], [It still bore a vague resemblance to Jimmy., 'dick2'], [It was small, a baby one., 'dick2'], [A brief glimpse the thing hurtling at him, cold, multi-lensed inhuman eyes., 'dick2'], [Wings, body still clothed in yellow T-shirt and jeans, the mimic outline still stamped on it., 'dick2'], [A strange half-turn of its body as it reached him., 'dick2'], [What was it doing?, 'dick2'], [A stinger., 'dick2'], [Loyce stabbed wildly at it., 'dick2'], [It retreated, buzzing frantically., 'dick2'], [Loyce rolled and crawled toward the door., 'dick2'], [Tommy and Janet stood still as statues, faces blank., 'dick2'], [Watching without expression., 'dick2'], [Loyce stabbed again., 'dick2'], [This time the knife connected., 'dick2'], [The thing shrieked and faltered., 'dick2'], [It bounced against the wall and fluttered down., 'dick2'], [Something lapped through his mind., 'dick2'], [A wall of force, energy, an alien mind probing into him., 'dick2'], [He was suddenly paralyzed., 'dick2'], [The mind entered his own, touched against him briefly, shockingly., 'dick2'], [An utterly alien presence, settling over him and then it flickered out as the thing collapsed in a broken heap on the rug., 'dick2'], [It was dead., 'dick2'], [He turned it over with his foot., 'dick2'], [It was an insect, a fly of some kind., 'dick2'], [Yellow T-shirt, jeans., 'dick2'], [His son Jimmy...., 'dick2'], [He closed his mind tight., 'dick2'], [It was too late to think about that., 'dick2'], [Savagely he scooped up his knife and headed toward the door., 'dick2'], [Janet and Tommy stood stone-still, neither of them moving., 'dick2'], [The car was out., 'dick2'], [He'd never get through., 'dick2'], [They'd be waiting for him., 'dick2'], [It was ten miles on foot., 'dick2'], [Ten long miles over rough ground, gulleys and open fields and hills of uncut forest., 'dick2'], [He'd have to go alone., 'dick2'], [Loyce opened the door., 'dick2'], [For a brief second he looked back at his wife and son., 'dick2'], [Then he slammed the door behind him and raced down the porch steps., 'dick2'], [A moment later he was on his way, hurrying swiftly through the darkness toward the edge of town., 'dick2'], [The early morning sunlight was blinding., 'dick2'], [Loyce halted, gasping for breath, swaying back and forth., 'dick2'], [Sweat ran down in his eyes., 'dick2'], [His clothing was torn, shredded by the brush and thorns through which he had crawled., 'dick2'], [Ten miles on his hands and knees., 'dick2'], [Crawling, creeping through the night., 'dick2'], [His shoes were mud-caked., 'dick2'], [He was scratched and limping, utterly exhausted., 'dick2'], [But ahead of him lay Oak Grove., 'dick2'], [He took a deep breath and started down the hill., 'dick2'], [Twice he stumbled and fell, picking himself up and trudging on., 'dick2'], [His ears rang., 'dick2'], [Everything receded and wavered., 'dick2'], [But he was there., 'dick2'], [He had got out, away from Pikeville., 'dick2'], [A farmer in a field gaped at him., 'dick2'], [From a house a young woman watched in wonder., 'dick2'], [Loyce reached the road and turned onto it., 'dick2'], [Ahead of him was a gasoline station and a drive-in., 'dick2'], [A couple of trucks, some chickens pecking in the dirt, a dog tied with a string., 'dick2'], [The white-clad attendant watched suspiciously as he dragged himself up to the station., 'dick2'], [\"Thank God.\", 'dick2'], [He caught hold of the wall., 'dick2'], [\"I didn't think I was going to make it., 'dick2'], [They followed me most of the way., 'dick2'], [I could hear them buzzing., 'dick2'], [Buzzing and flitting around behind me.\", 'dick2'], [\"What happened?\" the attendant demanded., 'dick2'], [\"You in a wreck?, 'dick2'], [A hold-up?\", 'dick2'], [Loyce shook his head wearily., 'dick2'], [\"They have the whole town., 'dick2'], [The City Hall and the police station., 'dick2'], [They hung a man from the lamppost., 'dick2'], [That was the first thing I saw., 'dick2'], [They've got all the roads blocked., 'dick2'], [I saw them hovering over the cars coming in., 'dick2'], [About four, 'dick2'], [this morning I got beyond them., 'dick2'], [I knew it right away., 'dick2'], [I could feel them leave., 'dick2'], [And then the sun came up., 'dick2'], [\" The attendant licked his lip nervously., 'dick2'], [\"You're out of your head., 'dick2'], [I better get a doctor.\", 'dick2'], [\"Get me into Oak Grove,\" Loyce gasped., 'dick2'], [He sank down on the gravel., 'dick2'], [\"We've got to get started cleaning them out., 'dick2'], [Got to get started right away., 'dick2'], [\" They kept a tape recorder going all the time he talked., 'dick2'], [When he had finished the Commissioner snapped off the recorder and got to his feet., 'dick2'], [He stood for a moment, deep in thought., 'dick2'], [Finally he got out his cigarettes and lit up slowly, a frown on his beefy face., 'dick2'], [\"You don't believe me,\" Loyce said., 'dick2'], [The Commissioner offered him a cigarette., 'dick2'], [Loyce pushed it impatiently away., 'dick2'], [\"Suit yourself.\", 'dick2'], [The Commissioner moved over to the window and stood for a time looking out at the town of Oak Grove., 'dick2'], [\"I believe you,\" he said abruptly., 'dick2'], [Loyce sagged., 'dick2'], [\"Thank God.\", 'dick2'], [\"So you got away.\", 'dick2'], [The Commissioner shook his head., 'dick2'], [\"You were down in your cellar instead of at work., 'dick2'], [A freak chance., 'dick2'], [One in a million.\", 'dick2'], [Loyce sipped some of the black coffee they had brought him., 'dick2'], [\"I have a theory,\" he murmured., 'dick2'], [\"What is it?\" \"About them., 'dick2'], [Who they are., 'dick2'], [They take over one area at a time., 'dick2'], [Starting at the top the highest level of authority., 'dick2'], [Working down from there in a widening circle., 'dick2'], [When they're firmly in control they go on to the next town., 'dick2'], [They spread, slowly, very gradually., 'dick2'], [I think it's been going on for a long time.\", 'dick2'], [\"A long time?\", 'dick2'], [\"Thousands of years., 'dick2'], [I don't think it's new.\", 'dick2'], [\"Why do you say that?\", 'dick2'], [\"When I was a kid.... A picture they showed us in Bible League., 'dick2'], [A religious picture an old print., 'dick2'], [The enemy gods, defeated by Jehovah., 'dick2'], [Moloch, Beelzebub, Moab, Baalin, Ashtaroth \" \", 'dick2'], [So?\", 'dick2'], [\"They were all represented by figures.\", 'dick2'], [Loyce looked up at the Commissioner., 'dick2'], [\"Beelzebub was represented as a giant fly., 'dick2'], [\" The Commissioner grunted. \", 'dick2'], [An old struggle.\", 'dick2'], [\"They've been defeated., 'dick2'], [The Bible is an account of their defeats., 'dick2'], [They make gains but finally they're defeated.\", 'dick2'], [\"Why defeated?\", 'dick2'], [\"They can't get everyone., 'dick2'], [They didn't get me., 'dick2'], [And they never got the Hebrews., 'dick2'], [The Hebrews carried the message to the whole world., 'dick2'], [The realization of the danger., 'dick2'], [The two men on the bus., 'dick2'], [I think they understood., 'dick2'], [Had escaped, like I did.\", 'dick2'], [He clenched his fists., 'dick2'], [\"I killed one of them., 'dick2'], [I made a mistake., 'dick2'], [I was afraid to take a chance., 'dick2'], [\" The Commissioner nodded., 'dick2'], [\"Yes, they undoubtedly had escaped, as you did., 'dick2'], [Freak accidents., 'dick2'], [But the rest of the town was firmly in control.\", 'dick2'], [He turned from the window. \", 'dick2'], [Well, Mr. Loyce., 'dick2'], [You seem to have figured everything out.\", 'dick2'], [\"Not everything., 'dick2'], [The hanging man., 'dick2'], [The dead man hanging from the lamppost., 'dick2'], [I don't understand that., 'dick2'], [Why?, 'dick2'], [Why did they deliberately hang him there?\", 'dick2'], [\"That would seem simple.\", 'dick2'], [The Commissioner smiled faintly. \", 'dick2'], [Bait. \", 'dick2'], [Loyce stiffened., 'dick2'], [His heart stopped beating. \", 'dick2'], [Bait?, 'dick2'], [What do you mean?\", 'dick2'], [\"To draw you out., 'dick2'], [Make you declare yourself., 'dick2'], [So they'd know who was under control and who had escaped.\", 'dick2'], [Loyce recoiled with horror. \", 'dick2'], [Then they expected failures!, 'dick2'], [They anticipated \" He broke off., 'dick2'], [\"They were ready with a trap.\", 'dick2'], [\"And you showed yourself., 'dick2'], [You reacted., 'dick2'], [You made yourself known.\", 'dick2'], [The Commissioner abruptly moved toward the door., 'dick2'], [\"Come along, Loyce., 'dick2'], [There's a lot to do., 'dick2'], [We must get moving., 'dick2'], [There's no time to waste.\", 'dick2'], [Loyce started slowly to his feet, numbed. \", 'dick2'], [And the man., 'dick2'], [Who was the man?, 'dick2'], [I never saw him before., 'dick2'], [He wasn't a local man., 'dick2'], [He was a stranger., 'dick2'], [All muddy and dirty, his face cut, slashed \" There was a strange look on the Commissioner's face as he answered., 'dick2'], [\"Maybe,\" he said softly, \"you'll understand that, too., 'dick2'], [Come along with me, Mr. Loyce.\", 'dick2'], [He held the door open, his eyes gleaming., 'dick2'], [Loyce caught a glimpse of the street in front of the police station., 'dick2'], [Policemen, a platform of some sort., 'dick2'], [A telephone pole and a rope! \", 'dick2'], [Right this way,\" the Commissioner said, smiling coldly., 'dick2'], [As the sun set, the vice-president of the Oak Grove Merchants' Bank came up out of the vault, threw the heavy time locks, put on his hat and coat, and hurried outside onto the sidewalk., 'dick2'], [Only a few people were there, hurrying home to dinner., 'dick2'], [\"Good night,\" the guard said, locking the door after him. \", 'dick2'], [Good night,\" Clarence Mason murmured., 'dick2'], [He started along the street toward his car., 'dick2'], [He was tired., 'dick2'], [He had been working all day down in the vault, examining the lay-out of the safety deposit boxes to see if there was room for another tier., 'dick2'], [He was glad to be finished., 'dick2'], [At the corner he halted., 'dick2'], [The street lights had not yet come on., 'dick2'], [The street was dim., 'dick2'], [Everything was vague., 'dick2'], [He looked around and froze., 'dick2'], [From the telephone pole in front of the police station, something large and shapeless hung., 'dick2'], [It moved a little with the wind., 'dick2'], [What the hell was it?, 'dick2'], [Mason approached it warily., 'dick2'], [He wanted to get home., 'dick2'], [He was tired and hungry., 'dick2'], [He thought of his wife, his kids, a hot meal on the dinner table., 'dick2'], [But there was something about the dark bundle, something ominous and ugly., 'dick2'], [The light was bad; he couldn't tell what it was., 'dick2'], [Yet it drew him on, made him move closer for a better look., 'dick2'], [The shapeless thing made him uneasy., 'dick2'], [He was frightened by it., 'dick2'], [Frightened and fascinated., 'dick2'], [And the strange part was that nobody else seemed to notice it., 'dick2']]\n"
     ]
    }
   ],
   "source": [
    "x = 'dick2.txt'\n",
    "with open(path + x, 'r') as file:\n",
    "                text = file.read()\n",
    "                text = text_cleaner(text)\n",
    "                print('text cleaned!')\n",
    "                text_nlp = nlp(text)\n",
    "                text_sents = [[sent, x[:-4]] for sent in text_nlp.sents]\n",
    "                sents += text_sents\n",
    "                print(text_sents)"
   ]
  },
  {
   "cell_type": "code",
   "execution_count": null,
   "metadata": {},
   "outputs": [],
   "source": []
  },
  {
   "cell_type": "code",
   "execution_count": null,
   "metadata": {},
   "outputs": [],
   "source": [
    "gutenberg.fileids()"
   ]
  },
  {
   "cell_type": "code",
   "execution_count": null,
   "metadata": {},
   "outputs": [],
   "source": [
    "# Utility function for standard text cleaning\n",
    "def text_cleaner(text):\n",
    "    # Visual inspection identifies a form of punctuation spaCy does not\n",
    "    # recognize: the double dash '--'. \n",
    "    text = re.sub(r'--',' ',text)\n",
    "    # get rid of text between brackets\n",
    "    text = re.sub(\"[\\[].*?[\\]]\", \"\", text)\n",
    "    \n",
    "    # Get rid of extra whitespace\n",
    "    text = ' '.join(text.split())\n",
    "    return text"
   ]
  }
 ],
 "metadata": {
  "kernelspec": {
   "display_name": "Python 3",
   "language": "python",
   "name": "python3"
  },
  "language_info": {
   "codemirror_mode": {
    "name": "ipython",
    "version": 3
   },
   "file_extension": ".py",
   "mimetype": "text/x-python",
   "name": "python",
   "nbconvert_exporter": "python",
   "pygments_lexer": "ipython3",
   "version": "3.7.0"
  }
 },
 "nbformat": 4,
 "nbformat_minor": 2
}
