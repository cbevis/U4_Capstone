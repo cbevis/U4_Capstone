{
 "cells": [
  {
   "cell_type": "code",
   "execution_count": 1,
   "metadata": {},
   "outputs": [],
   "source": [
    "import numpy as np\n",
    "import pandas as pd\n",
    "import matplotlib.pyplot as plt\n",
    "import seaborn as sns\n",
    "import re\n",
    "import os\n",
    "\n",
    "from nltk.corpus import stopwords\n",
    "import spacy\n",
    "from spacy.pipeline import SentenceSegmenter\n",
    "from spacy.lang.en.stop_words import STOP_WORDS\n",
    "nlp = spacy.load('en')\n",
    "\n",
    "from sklearn.model_selection import train_test_split\n",
    "from sklearn.feature_extraction.text import TfidfVectorizer\n",
    "from sklearn.decomposition import TruncatedSVD\n",
    "from sklearn.pipeline import make_pipeline\n",
    "from sklearn.preprocessing import Normalizer, normalize\n",
    "\n",
    "from sklearn.preprocessing import StandardScaler\n",
    "from sklearn.feature_extraction.text import CountVectorizer\n",
    "\n",
    "from sklearn.decomposition import TruncatedSVD\n",
    "from sklearn.pipeline import make_pipeline\n",
    "from sklearn.preprocessing import LabelEncoder\n",
    "\n",
    "from sklearn.cluster import MeanShift, estimate_bandwidth\n",
    "from sklearn.cluster import KMeans\n",
    "from sklearn.cluster import SpectralClustering\n",
    "from sklearn import metrics\n",
    "\n",
    "from sklearn.ensemble import RandomForestClassifier\n",
    "from sklearn.linear_model import LogisticRegression"
   ]
  },
  {
   "cell_type": "code",
   "execution_count": 2,
   "metadata": {},
   "outputs": [],
   "source": [
    "# Utility function for standard text cleaning\n",
    "def text_cleaner(text):\n",
    "    \n",
    "    text = re.sub(r'————', ' @SentBoundary@ ', text )\n",
    "    \n",
    "    # Spacy does not recognize: the double dash '--'. \n",
    "    text = re.sub(r'--', ' ',text)\n",
    "    \n",
    "    # Spacy thinks underscores are a new sentence\n",
    "    text = re.sub('_', ' ', text)\n",
    "    \n",
    "    # Remove text between brackets\n",
    "    text = re.sub('[\\[][\\S\\s]*?[\\]]', \"\", text)\n",
    "    \n",
    "    # Remove beginning of file Project Gutenberg info\n",
    "    text = re.sub('[\\S\\s]*(ILLUSTRATED BY .*)', '', text)\n",
    "    \n",
    "    # Different format for beginning\n",
    "    text = re.sub('[\\S\\s]*(Illustrated by .*)', '', text)\n",
    "      \n",
    "    # Remove Project Gutenberg end of file info\n",
    "    text = re.sub('End of (the )*Project Gutenberg[\\S\\s]*', '', text, 1)\n",
    "    \n",
    "    # Remove Project Gutenberg end of file info\n",
    "    text = re.sub('_Transcriber\\'s note_[\\S\\s]*', '', text, 1)\n",
    "    \n",
    "    # Remove Project Gutenberg end of file info, different format\n",
    "    text = re.sub('TRANSCRIBER\\'S NOTE[\\S\\s]*', '', text, 1)\n",
    "    \n",
    "    # One text ends with the author name\n",
    "    text = re.sub('=JACK McKENTY=[\\S\\s]*', '', text, 1)\n",
    "    \n",
    "    # Remove story section separators\n",
    "    text = re.sub('(\\s*\\*){5}', ' @SentBoundary@ ', text)\n",
    "    \n",
    "    # No illustrators in these ones\n",
    "    text = re.sub('[\\S\\s]*([Bb][Yy] L. J. STECHER, JR\\.)', '', text, 1)\n",
    "    text = re.sub('[\\S\\s]*(by Mack Reynolds)', '', text, 1)\n",
    "    \n",
    "    # Some texts end with END or THE END\n",
    "    text = re.sub('\\n(THE)* *(END)\\n[\\S\\s]*', '', text, 1)\n",
    "    \n",
    "    # Some texts have roman numeral subdivisions, doesn't exceed III\n",
    "    text = re.sub('\\n[I]+\\n', '\\n\\n', text)\n",
    "    \n",
    "    text = re.sub('[\\n\\r]', ' ', text)\n",
    "    \n",
    "    # Remove extra whitespace\n",
    "    text = ' '.join(text.split())\n",
    "    return text"
   ]
  },
  {
   "cell_type": "code",
   "execution_count": 3,
   "metadata": {},
   "outputs": [],
   "source": [
    "def split_on_breaks(doc):\n",
    "    start = 0\n",
    "    seen_break = False\n",
    "    for word in doc:\n",
    "        if seen_break:\n",
    "            yield doc[start:word.i-1]\n",
    "            start = word.i\n",
    "            seen_break = False\n",
    "        elif word.text == '@SentBoundary@':\n",
    "            seen_break = True\n",
    "    if start < len(doc):\n",
    "        yield doc[start:len(doc)]\n",
    "\n",
    "sbd = SentenceSegmenter(nlp.vocab, strategy=split_on_breaks)\n",
    "nlp.add_pipe(sbd, first=True)\n",
    "\n",
    "#https://github.com/explosion/spaCy/issues/2791\n",
    "#def get_sentences(text):\n",
    "#    doc = nlp(text)\n",
    "#    return (list(doc.sents))\n",
    "#\n",
    "#get_sentences(\"Bob meets Alice. @SentBoundary@ They play together.\")"
   ]
  },
  {
   "cell_type": "code",
   "execution_count": 4,
   "metadata": {},
   "outputs": [],
   "source": [
    "path = 'science_fiction/'\n",
    "filelist = os.listdir(path)\n",
    "sentences = []\n",
    "file_num = 0\n",
    "\n",
    "for x in filelist:\n",
    "    if x.endswith('.txt'):\n",
    "        file_num += 1\n",
    "        try:\n",
    "            with open(path + x, 'r') as file:\n",
    "                text = file.read()\n",
    "                text = text_cleaner(text)\n",
    "                text_nlp = nlp(text)\n",
    "                text_sents = [[sent, x[:-4], x[:-5]] for sent in text_nlp.sents]\n",
    "                sentences += text_sents\n",
    "                #print(text_sents)\n",
    "        except:\n",
    "            print('Failed Text: {}'.format(x))\n",
    "            pass"
   ]
  },
  {
   "cell_type": "code",
   "execution_count": 5,
   "metadata": {},
   "outputs": [
    {
     "data": {
      "text/html": [
       "<div>\n",
       "<style scoped>\n",
       "    .dataframe tbody tr th:only-of-type {\n",
       "        vertical-align: middle;\n",
       "    }\n",
       "\n",
       "    .dataframe tbody tr th {\n",
       "        vertical-align: top;\n",
       "    }\n",
       "\n",
       "    .dataframe thead th {\n",
       "        text-align: right;\n",
       "    }\n",
       "</style>\n",
       "<table border=\"1\" class=\"dataframe\">\n",
       "  <thead>\n",
       "    <tr style=\"text-align: right;\">\n",
       "      <th></th>\n",
       "      <th>text_sentences</th>\n",
       "      <th>text</th>\n",
       "      <th>author</th>\n",
       "    </tr>\n",
       "  </thead>\n",
       "  <tbody>\n",
       "    <tr>\n",
       "      <th>0</th>\n",
       "      <td>(Ed, had, always, been, a, practical, man, ,, ...</td>\n",
       "      <td>dick2</td>\n",
       "      <td>dick</td>\n",
       "    </tr>\n",
       "    <tr>\n",
       "      <th>1</th>\n",
       "      <td>(\", Look, at, it, !, \", Loyce, snapped, ., \", ...</td>\n",
       "      <td>dick2</td>\n",
       "      <td>dick</td>\n",
       "    </tr>\n",
       "    <tr>\n",
       "      <th>2</th>\n",
       "      <td>(\", Name, ?, \", the, cop, with, the, notebook,...</td>\n",
       "      <td>dick2</td>\n",
       "      <td>dick</td>\n",
       "    </tr>\n",
       "    <tr>\n",
       "      <th>3</th>\n",
       "      <td>(For, a, long, time, Loyce, watched, ,, crouch...</td>\n",
       "      <td>dick2</td>\n",
       "      <td>dick</td>\n",
       "    </tr>\n",
       "    <tr>\n",
       "      <th>4</th>\n",
       "      <td>(Loyce, relaxed, a, little, ., He, studied, th...</td>\n",
       "      <td>dick2</td>\n",
       "      <td>dick</td>\n",
       "    </tr>\n",
       "  </tbody>\n",
       "</table>\n",
       "</div>"
      ],
      "text/plain": [
       "                                      text_sentences   text author\n",
       "0  (Ed, had, always, been, a, practical, man, ,, ...  dick2   dick\n",
       "1  (\", Look, at, it, !, \", Loyce, snapped, ., \", ...  dick2   dick\n",
       "2  (\", Name, ?, \", the, cop, with, the, notebook,...  dick2   dick\n",
       "3  (For, a, long, time, Loyce, watched, ,, crouch...  dick2   dick\n",
       "4  (Loyce, relaxed, a, little, ., He, studied, th...  dick2   dick"
      ]
     },
     "execution_count": 5,
     "metadata": {},
     "output_type": "execute_result"
    }
   ],
   "source": [
    "# Combine the setnences from the two novels into one data frame\n",
    "df = pd.DataFrame(sentences)\n",
    "df.columns = ['text_sentences', 'text', 'author']\n",
    "df.to_csv('scifi.csv')\n",
    "df.head()"
   ]
  },
  {
   "cell_type": "code",
   "execution_count": 6,
   "metadata": {},
   "outputs": [
    {
     "data": {
      "text/plain": [
       "(358, 3)"
      ]
     },
     "execution_count": 6,
     "metadata": {},
     "output_type": "execute_result"
    }
   ],
   "source": [
    "df.shape"
   ]
  },
  {
   "cell_type": "code",
   "execution_count": 7,
   "metadata": {},
   "outputs": [
    {
     "data": {
      "text/html": [
       "<div>\n",
       "<style scoped>\n",
       "    .dataframe tbody tr th:only-of-type {\n",
       "        vertical-align: middle;\n",
       "    }\n",
       "\n",
       "    .dataframe tbody tr th {\n",
       "        vertical-align: top;\n",
       "    }\n",
       "\n",
       "    .dataframe thead th {\n",
       "        text-align: right;\n",
       "    }\n",
       "</style>\n",
       "<table border=\"1\" class=\"dataframe\">\n",
       "  <thead>\n",
       "    <tr style=\"text-align: right;\">\n",
       "      <th></th>\n",
       "      <th>text_sentences</th>\n",
       "      <th>text</th>\n",
       "      <th>author</th>\n",
       "    </tr>\n",
       "  </thead>\n",
       "  <tbody>\n",
       "    <tr>\n",
       "      <th>166</th>\n",
       "      <td>()</td>\n",
       "      <td>pohl1</td>\n",
       "      <td>pohl</td>\n",
       "    </tr>\n",
       "    <tr>\n",
       "      <th>331</th>\n",
       "      <td>()</td>\n",
       "      <td>reynolds2</td>\n",
       "      <td>reynolds</td>\n",
       "    </tr>\n",
       "  </tbody>\n",
       "</table>\n",
       "</div>"
      ],
      "text/plain": [
       "    text_sentences       text    author\n",
       "166             ()      pohl1      pohl\n",
       "331             ()  reynolds2  reynolds"
      ]
     },
     "execution_count": 7,
     "metadata": {},
     "output_type": "execute_result"
    }
   ],
   "source": [
    "# Add word and punctuation count\n",
    "df[df['text_sentences'].apply(len)==0]"
   ]
  },
  {
   "cell_type": "code",
   "execution_count": 8,
   "metadata": {},
   "outputs": [
    {
     "data": {
      "text/plain": [
       "(356, 4)"
      ]
     },
     "execution_count": 8,
     "metadata": {},
     "output_type": "execute_result"
    }
   ],
   "source": [
    "# Fix two empy rows\n",
    "df = df.drop([166, 331], axis=0).reset_index()\n",
    "df.shape"
   ]
  },
  {
   "cell_type": "code",
   "execution_count": 10,
   "metadata": {},
   "outputs": [
    {
     "data": {
      "text/plain": [
       "array(['dick', 'quattrocchi', 'mckenty', 'pohl', 'leiber', 'harmon',\n",
       "       'stetcher', 'ludwig', 'leinster', 'reynolds'], dtype=object)"
      ]
     },
     "execution_count": 10,
     "metadata": {},
     "output_type": "execute_result"
    }
   ],
   "source": [
    "df['author'].unique()"
   ]
  },
  {
   "cell_type": "code",
   "execution_count": 11,
   "metadata": {},
   "outputs": [],
   "source": [
    "# Convert to lemma\n",
    "both_sents = [' '.join([token.lemma_ for token in sent]) for sent in df['text_sentences']]\n",
    "\n",
    "# Convert to Part of speech\n",
    "both_pos = [' '.join([token.pos_ for token in sent]) for sent in df['text_sentences']]\n"
   ]
  },
  {
   "cell_type": "code",
   "execution_count": 108,
   "metadata": {},
   "outputs": [],
   "source": [
    "# lemma without names\n",
    "both_no_people = [' '.join([token.lemma_ for token in sent if token.ent_type_ != 'PERSON']) \n",
    "                        for sent in df['text_sentences']]"
   ]
  },
  {
   "cell_type": "code",
   "execution_count": 12,
   "metadata": {},
   "outputs": [
    {
     "name": "stdout",
     "output_type": "stream",
     "text": [
      "['15th', 'abandon', 'ability', 'able', 'aboard', 'abruptly', 'absently', 'absolute', 'absolutely', 'absorb', 'academician', 'academy', 'acceleration', 'accent', 'accept', 'accident', 'accomplish', 'accord', 'account', 'ache']\n",
      "[[0 0 0 ... 0 0 0]\n",
      " [0 0 0 ... 0 0 0]\n",
      " [0 0 0 ... 0 0 0]\n",
      " ...\n",
      " [0 0 0 ... 0 0 0]\n",
      " [0 0 0 ... 0 0 1]\n",
      " [0 0 0 ... 0 0 1]]\n"
     ]
    }
   ],
   "source": [
    "vectorizer = CountVectorizer(max_features=2500, min_df=5, stop_words=STOP_WORDS)\n",
    "X = vectorizer.fit_transform(both_sents)\n",
    "columns = list(vectorizer.get_feature_names())\n",
    "print(columns[0:20])\n",
    "print(X.toarray())  \n"
   ]
  },
  {
   "cell_type": "code",
   "execution_count": null,
   "metadata": {},
   "outputs": [],
   "source": []
  },
  {
   "cell_type": "code",
   "execution_count": 13,
   "metadata": {},
   "outputs": [],
   "source": [
    "df_bow = pd.DataFrame(X.toarray(), columns=list(vectorizer.get_feature_names()))\n",
    "df = df.join(df_bow)"
   ]
  },
  {
   "cell_type": "code",
   "execution_count": 16,
   "metadata": {},
   "outputs": [
    {
     "name": "stdout",
     "output_type": "stream",
     "text": [
      "['adj', 'adp', 'adv', 'cconj', 'det', 'intj', 'noun', 'num', 'part', 'pron', 'propn', 'punct', 'sym', 'verb']\n",
      "[[ 36  43  18 ...  48   0  63]\n",
      " [ 56  62  64 ... 261   0 175]\n",
      " [ 75 103  70 ... 242   0 187]\n",
      " ...\n",
      " [ 78  92  78 ... 164   0 187]\n",
      " [ 85  66  54 ... 157   0 124]\n",
      " [ 66  83  57 ... 175   0 142]]\n"
     ]
    }
   ],
   "source": [
    "vectorizer_pos = CountVectorizer()\n",
    "X_pos = vectorizer_pos.fit_transform(both_pos)\n",
    "columns_pos = list(vectorizer_pos.get_feature_names())\n",
    "print(columns_pos[0:20])\n",
    "print(X_pos.toarray())  "
   ]
  },
  {
   "cell_type": "code",
   "execution_count": 17,
   "metadata": {},
   "outputs": [],
   "source": [
    "df_pos = pd.DataFrame(X_pos.toarray(), columns=columns_pos)\n",
    "df = df.join(df_pos, lsuffix='words', rsuffix='pos')"
   ]
  },
  {
   "cell_type": "code",
   "execution_count": 18,
   "metadata": {},
   "outputs": [
    {
     "data": {
      "text/html": [
       "<div>\n",
       "<style scoped>\n",
       "    .dataframe tbody tr th:only-of-type {\n",
       "        vertical-align: middle;\n",
       "    }\n",
       "\n",
       "    .dataframe tbody tr th {\n",
       "        vertical-align: top;\n",
       "    }\n",
       "\n",
       "    .dataframe thead th {\n",
       "        text-align: right;\n",
       "    }\n",
       "</style>\n",
       "<table border=\"1\" class=\"dataframe\">\n",
       "  <thead>\n",
       "    <tr style=\"text-align: right;\">\n",
       "      <th></th>\n",
       "      <th>index</th>\n",
       "      <th>text_sentences</th>\n",
       "      <th>text</th>\n",
       "      <th>author</th>\n",
       "      <th>15th</th>\n",
       "      <th>abandon</th>\n",
       "      <th>ability</th>\n",
       "      <th>able</th>\n",
       "      <th>aboard</th>\n",
       "      <th>abruptly</th>\n",
       "      <th>...</th>\n",
       "      <th>det</th>\n",
       "      <th>intj</th>\n",
       "      <th>noun</th>\n",
       "      <th>num</th>\n",
       "      <th>part</th>\n",
       "      <th>pronpos</th>\n",
       "      <th>propn</th>\n",
       "      <th>punct</th>\n",
       "      <th>sym</th>\n",
       "      <th>verb</th>\n",
       "    </tr>\n",
       "  </thead>\n",
       "  <tbody>\n",
       "    <tr>\n",
       "      <th>0</th>\n",
       "      <td>0</td>\n",
       "      <td>(Ed, had, always, been, a, practical, man, ,, ...</td>\n",
       "      <td>dick2</td>\n",
       "      <td>dick</td>\n",
       "      <td>0</td>\n",
       "      <td>0</td>\n",
       "      <td>0</td>\n",
       "      <td>0</td>\n",
       "      <td>0</td>\n",
       "      <td>0</td>\n",
       "      <td>...</td>\n",
       "      <td>46</td>\n",
       "      <td>0</td>\n",
       "      <td>94</td>\n",
       "      <td>3</td>\n",
       "      <td>10</td>\n",
       "      <td>28</td>\n",
       "      <td>9</td>\n",
       "      <td>48</td>\n",
       "      <td>0</td>\n",
       "      <td>63</td>\n",
       "    </tr>\n",
       "    <tr>\n",
       "      <th>1</th>\n",
       "      <td>1</td>\n",
       "      <td>(\", Look, at, it, !, \", Loyce, snapped, ., \", ...</td>\n",
       "      <td>dick2</td>\n",
       "      <td>dick</td>\n",
       "      <td>0</td>\n",
       "      <td>0</td>\n",
       "      <td>0</td>\n",
       "      <td>0</td>\n",
       "      <td>0</td>\n",
       "      <td>0</td>\n",
       "      <td>...</td>\n",
       "      <td>73</td>\n",
       "      <td>6</td>\n",
       "      <td>153</td>\n",
       "      <td>2</td>\n",
       "      <td>24</td>\n",
       "      <td>66</td>\n",
       "      <td>50</td>\n",
       "      <td>261</td>\n",
       "      <td>0</td>\n",
       "      <td>175</td>\n",
       "    </tr>\n",
       "    <tr>\n",
       "      <th>2</th>\n",
       "      <td>2</td>\n",
       "      <td>(\", Name, ?, \", the, cop, with, the, notebook,...</td>\n",
       "      <td>dick2</td>\n",
       "      <td>dick</td>\n",
       "      <td>0</td>\n",
       "      <td>0</td>\n",
       "      <td>0</td>\n",
       "      <td>0</td>\n",
       "      <td>0</td>\n",
       "      <td>0</td>\n",
       "      <td>...</td>\n",
       "      <td>120</td>\n",
       "      <td>4</td>\n",
       "      <td>198</td>\n",
       "      <td>5</td>\n",
       "      <td>29</td>\n",
       "      <td>74</td>\n",
       "      <td>43</td>\n",
       "      <td>242</td>\n",
       "      <td>0</td>\n",
       "      <td>187</td>\n",
       "    </tr>\n",
       "    <tr>\n",
       "      <th>3</th>\n",
       "      <td>3</td>\n",
       "      <td>(For, a, long, time, Loyce, watched, ,, crouch...</td>\n",
       "      <td>dick2</td>\n",
       "      <td>dick</td>\n",
       "      <td>0</td>\n",
       "      <td>0</td>\n",
       "      <td>1</td>\n",
       "      <td>0</td>\n",
       "      <td>0</td>\n",
       "      <td>1</td>\n",
       "      <td>...</td>\n",
       "      <td>51</td>\n",
       "      <td>0</td>\n",
       "      <td>86</td>\n",
       "      <td>1</td>\n",
       "      <td>10</td>\n",
       "      <td>25</td>\n",
       "      <td>14</td>\n",
       "      <td>67</td>\n",
       "      <td>0</td>\n",
       "      <td>80</td>\n",
       "    </tr>\n",
       "    <tr>\n",
       "      <th>4</th>\n",
       "      <td>4</td>\n",
       "      <td>(Loyce, relaxed, a, little, ., He, studied, th...</td>\n",
       "      <td>dick2</td>\n",
       "      <td>dick</td>\n",
       "      <td>0</td>\n",
       "      <td>0</td>\n",
       "      <td>0</td>\n",
       "      <td>0</td>\n",
       "      <td>0</td>\n",
       "      <td>0</td>\n",
       "      <td>...</td>\n",
       "      <td>85</td>\n",
       "      <td>1</td>\n",
       "      <td>161</td>\n",
       "      <td>4</td>\n",
       "      <td>22</td>\n",
       "      <td>53</td>\n",
       "      <td>19</td>\n",
       "      <td>155</td>\n",
       "      <td>0</td>\n",
       "      <td>128</td>\n",
       "    </tr>\n",
       "  </tbody>\n",
       "</table>\n",
       "<p>5 rows × 2510 columns</p>\n",
       "</div>"
      ],
      "text/plain": [
       "   index                                     text_sentences   text author  \\\n",
       "0      0  (Ed, had, always, been, a, practical, man, ,, ...  dick2   dick   \n",
       "1      1  (\", Look, at, it, !, \", Loyce, snapped, ., \", ...  dick2   dick   \n",
       "2      2  (\", Name, ?, \", the, cop, with, the, notebook,...  dick2   dick   \n",
       "3      3  (For, a, long, time, Loyce, watched, ,, crouch...  dick2   dick   \n",
       "4      4  (Loyce, relaxed, a, little, ., He, studied, th...  dick2   dick   \n",
       "\n",
       "   15th  abandon  ability  able  aboard  abruptly  ...   det  intj  noun  num  \\\n",
       "0     0        0        0     0       0         0  ...    46     0    94    3   \n",
       "1     0        0        0     0       0         0  ...    73     6   153    2   \n",
       "2     0        0        0     0       0         0  ...   120     4   198    5   \n",
       "3     0        0        1     0       0         1  ...    51     0    86    1   \n",
       "4     0        0        0     0       0         0  ...    85     1   161    4   \n",
       "\n",
       "   part  pronpos  propn  punct  sym  verb  \n",
       "0    10       28      9     48    0    63  \n",
       "1    24       66     50    261    0   175  \n",
       "2    29       74     43    242    0   187  \n",
       "3    10       25     14     67    0    80  \n",
       "4    22       53     19    155    0   128  \n",
       "\n",
       "[5 rows x 2510 columns]"
      ]
     },
     "execution_count": 18,
     "metadata": {},
     "output_type": "execute_result"
    }
   ],
   "source": [
    "df.head()"
   ]
  },
  {
   "cell_type": "code",
   "execution_count": 19,
   "metadata": {},
   "outputs": [],
   "source": [
    "# Add word and punctuation count\n",
    "df['word_count'] = df['text_sentences'].apply(len)-df['punct']"
   ]
  },
  {
   "cell_type": "code",
   "execution_count": 20,
   "metadata": {},
   "outputs": [],
   "source": [
    "df['all_count'] = df['text_sentences'].apply(len)\n",
    "df['all_caps'] = [sum([token.is_upper for token in sent]) for sent in df['text_sentences']]"
   ]
  },
  {
   "cell_type": "code",
   "execution_count": 21,
   "metadata": {},
   "outputs": [
    {
     "data": {
      "text/html": [
       "<div>\n",
       "<style scoped>\n",
       "    .dataframe tbody tr th:only-of-type {\n",
       "        vertical-align: middle;\n",
       "    }\n",
       "\n",
       "    .dataframe tbody tr th {\n",
       "        vertical-align: top;\n",
       "    }\n",
       "\n",
       "    .dataframe thead th {\n",
       "        text-align: right;\n",
       "    }\n",
       "</style>\n",
       "<table border=\"1\" class=\"dataframe\">\n",
       "  <thead>\n",
       "    <tr style=\"text-align: right;\">\n",
       "      <th></th>\n",
       "      <th>index</th>\n",
       "      <th>text_sentences</th>\n",
       "      <th>text</th>\n",
       "      <th>author</th>\n",
       "      <th>15th</th>\n",
       "      <th>abandon</th>\n",
       "      <th>ability</th>\n",
       "      <th>able</th>\n",
       "      <th>aboard</th>\n",
       "      <th>abruptly</th>\n",
       "      <th>...</th>\n",
       "      <th>num</th>\n",
       "      <th>part</th>\n",
       "      <th>pronpos</th>\n",
       "      <th>propn</th>\n",
       "      <th>punct</th>\n",
       "      <th>sym</th>\n",
       "      <th>verb</th>\n",
       "      <th>word_count</th>\n",
       "      <th>all_count</th>\n",
       "      <th>all_caps</th>\n",
       "    </tr>\n",
       "  </thead>\n",
       "  <tbody>\n",
       "    <tr>\n",
       "      <th>0</th>\n",
       "      <td>0</td>\n",
       "      <td>(Ed, had, always, been, a, practical, man, ,, ...</td>\n",
       "      <td>dick2</td>\n",
       "      <td>dick</td>\n",
       "      <td>0</td>\n",
       "      <td>0</td>\n",
       "      <td>0</td>\n",
       "      <td>0</td>\n",
       "      <td>0</td>\n",
       "      <td>0</td>\n",
       "      <td>...</td>\n",
       "      <td>3</td>\n",
       "      <td>10</td>\n",
       "      <td>28</td>\n",
       "      <td>9</td>\n",
       "      <td>48</td>\n",
       "      <td>0</td>\n",
       "      <td>63</td>\n",
       "      <td>371</td>\n",
       "      <td>419</td>\n",
       "      <td>11</td>\n",
       "    </tr>\n",
       "    <tr>\n",
       "      <th>1</th>\n",
       "      <td>1</td>\n",
       "      <td>(\", Look, at, it, !, \", Loyce, snapped, ., \", ...</td>\n",
       "      <td>dick2</td>\n",
       "      <td>dick</td>\n",
       "      <td>0</td>\n",
       "      <td>0</td>\n",
       "      <td>0</td>\n",
       "      <td>0</td>\n",
       "      <td>0</td>\n",
       "      <td>0</td>\n",
       "      <td>...</td>\n",
       "      <td>2</td>\n",
       "      <td>24</td>\n",
       "      <td>66</td>\n",
       "      <td>50</td>\n",
       "      <td>261</td>\n",
       "      <td>0</td>\n",
       "      <td>175</td>\n",
       "      <td>751</td>\n",
       "      <td>1012</td>\n",
       "      <td>19</td>\n",
       "    </tr>\n",
       "    <tr>\n",
       "      <th>2</th>\n",
       "      <td>2</td>\n",
       "      <td>(\", Name, ?, \", the, cop, with, the, notebook,...</td>\n",
       "      <td>dick2</td>\n",
       "      <td>dick</td>\n",
       "      <td>0</td>\n",
       "      <td>0</td>\n",
       "      <td>0</td>\n",
       "      <td>0</td>\n",
       "      <td>0</td>\n",
       "      <td>0</td>\n",
       "      <td>...</td>\n",
       "      <td>5</td>\n",
       "      <td>29</td>\n",
       "      <td>74</td>\n",
       "      <td>43</td>\n",
       "      <td>242</td>\n",
       "      <td>0</td>\n",
       "      <td>187</td>\n",
       "      <td>934</td>\n",
       "      <td>1176</td>\n",
       "      <td>28</td>\n",
       "    </tr>\n",
       "    <tr>\n",
       "      <th>3</th>\n",
       "      <td>3</td>\n",
       "      <td>(For, a, long, time, Loyce, watched, ,, crouch...</td>\n",
       "      <td>dick2</td>\n",
       "      <td>dick</td>\n",
       "      <td>0</td>\n",
       "      <td>0</td>\n",
       "      <td>1</td>\n",
       "      <td>0</td>\n",
       "      <td>0</td>\n",
       "      <td>1</td>\n",
       "      <td>...</td>\n",
       "      <td>1</td>\n",
       "      <td>10</td>\n",
       "      <td>25</td>\n",
       "      <td>14</td>\n",
       "      <td>67</td>\n",
       "      <td>0</td>\n",
       "      <td>80</td>\n",
       "      <td>391</td>\n",
       "      <td>458</td>\n",
       "      <td>3</td>\n",
       "    </tr>\n",
       "    <tr>\n",
       "      <th>4</th>\n",
       "      <td>4</td>\n",
       "      <td>(Loyce, relaxed, a, little, ., He, studied, th...</td>\n",
       "      <td>dick2</td>\n",
       "      <td>dick</td>\n",
       "      <td>0</td>\n",
       "      <td>0</td>\n",
       "      <td>0</td>\n",
       "      <td>0</td>\n",
       "      <td>0</td>\n",
       "      <td>0</td>\n",
       "      <td>...</td>\n",
       "      <td>4</td>\n",
       "      <td>22</td>\n",
       "      <td>53</td>\n",
       "      <td>19</td>\n",
       "      <td>155</td>\n",
       "      <td>0</td>\n",
       "      <td>128</td>\n",
       "      <td>714</td>\n",
       "      <td>869</td>\n",
       "      <td>13</td>\n",
       "    </tr>\n",
       "  </tbody>\n",
       "</table>\n",
       "<p>5 rows × 2513 columns</p>\n",
       "</div>"
      ],
      "text/plain": [
       "   index                                     text_sentences   text author  \\\n",
       "0      0  (Ed, had, always, been, a, practical, man, ,, ...  dick2   dick   \n",
       "1      1  (\", Look, at, it, !, \", Loyce, snapped, ., \", ...  dick2   dick   \n",
       "2      2  (\", Name, ?, \", the, cop, with, the, notebook,...  dick2   dick   \n",
       "3      3  (For, a, long, time, Loyce, watched, ,, crouch...  dick2   dick   \n",
       "4      4  (Loyce, relaxed, a, little, ., He, studied, th...  dick2   dick   \n",
       "\n",
       "   15th  abandon  ability  able  aboard  abruptly    ...     num  part  \\\n",
       "0     0        0        0     0       0         0    ...       3    10   \n",
       "1     0        0        0     0       0         0    ...       2    24   \n",
       "2     0        0        0     0       0         0    ...       5    29   \n",
       "3     0        0        1     0       0         1    ...       1    10   \n",
       "4     0        0        0     0       0         0    ...       4    22   \n",
       "\n",
       "   pronpos  propn  punct  sym  verb  word_count  all_count  all_caps  \n",
       "0       28      9     48    0    63         371        419        11  \n",
       "1       66     50    261    0   175         751       1012        19  \n",
       "2       74     43    242    0   187         934       1176        28  \n",
       "3       25     14     67    0    80         391        458         3  \n",
       "4       53     19    155    0   128         714        869        13  \n",
       "\n",
       "[5 rows x 2513 columns]"
      ]
     },
     "execution_count": 21,
     "metadata": {},
     "output_type": "execute_result"
    }
   ],
   "source": [
    "df.head()"
   ]
  },
  {
   "cell_type": "code",
   "execution_count": 22,
   "metadata": {},
   "outputs": [
    {
     "name": "stdout",
     "output_type": "stream",
     "text": [
      "Number of features: 2681\n",
      "Original sentence: on the second day follow -PRON- return to -PRON- room at tripler after breakfast , and find a honolulu city policeman sit hollow - eyed on the edge of -PRON- bed . the man stand up as chandler come in . \" so , \" -PRON- grumble , \" -PRON- take so long ! here . be diagram , spec , part list , all . -PRON- get everything three day from now , then -PRON- begin . \" the policeman , no longer koitska , shake -PRON- , glance stolidly at chandler and walk out , leave a thick manila envelope on the pillow . on -PRON- be write , in a crabbed hand : all secret ! do not show diagram ! chandler open the envelope and spill -PRON- content on the bed . an hour later -PRON- realize that sixty minute have pass in which -PRON- have not be afraid . -PRON- be good to be work again , -PRON- think , and then that thought fade away again as -PRON- return to study the sheaf of circuit diagram and closely type page of specification . -PRON- be not only work , -PRON- be hard work , and absorb . chandler know enough about the very short wavelength radio spectrum to know that the device -PRON- be suppose to build be no proficiency test ; this be for real . the more -PRON- puzzle over -PRON- the less -PRON- could understand of -PRON- purpose . there be a transmitter and there be a receiver . astonishingly , neither be directional : that rule out radar , for example . -PRON- reject immediately the thought that the radiation be for spectrum analysis , as in the caltech project unfortunate , because that be the only application with which -PRON- have first - hand familiarity ; but impossible . the thing be too complicated . nor could -PRON- be a simple message transmitter no , perhaps -PRON- could , assume there be a reason for use the submillimeter band instead of the conventional , far simple short - wave spectrum . could -PRON- ? the submillimeter wave be line - of - sight , of course , but would ionosphere scatter make -PRON- possible for -PRON- to cover great distance ? -PRON- could not remember . or be that irrelevant , since perhaps -PRON- need only to cover the distance between island in -PRON- own archipelago ? but then , why all the power ? and in any case , what about this fantastic switching panel , hundred of square foot of -PRON- even though -PRON- be transistorize and subminiaturiz and involve at least a dozen sophisticated technical refinement -PRON- have not the training quite to understand ? at&t could have handle every phone call in the united states with less switching than this in the day when telephone system span a nation instead of a fraction of a city . -PRON- push the paper together in a pile and sit back , smoke a cigarette , try to remember what -PRON- could of the theory behind submillimeter radiation . at half a million megacycle and up , the domain of quantum theory begin to be invade . rotate gas molecule , constrict to a few energy state , respond directly to the radio wave . chandler remember late - night bull session in pasadena during which -PRON- have be point out that the possibility in the field be enormous although only possibility , for there be no engineering way to reach -PRON- , and no clear theory to point the way suggest such strange ultimate practical application as the receiverless radio , for example . be that what -PRON- have here ? -PRON- give up . -PRON- be a question that would burn at -PRON- until -PRON- find the answer , but just now -PRON- have work to do , and -PRON- would better be do -PRON- . skip lunch entirely , -PRON- carefully check the component list , make a copy of what -PRON- would need , check the original envelope and -PRON- content with the man at the main receiving desk for -PRON- safe , and catch the bus to honolulu . at the parts ' n plenty store , hsi read the list with a faint frown that turn into a puzzled scowl . when -PRON- put -PRON- down -PRON- look at chandler for a few moment without speak . \" well , hsi ? can -PRON- get all this for -PRON- ? \" the part man shrug and nod . \" koitska say in three day . \" hsi look startled , then resign . \" that put -PRON- right up to -PRON- , do not -PRON- ? all right . wait a moment . \" -PRON- disappear in the back of the store , where chandler hear -PRON- talk on what be evidently an intercom system . -PRON- come back in a few minute and slip chandler 's list into a slit in the lock door . \" tough for bert , \" -PRON- say . \" -PRON- will be work all night , get start but -PRON- can take -PRON- easy till tomorrow . by then -PRON- will know what -PRON- do not have , and -PRON- will find some way to get -PRON- . \" -PRON- shrug again , but -PRON- face be line . chandler wonder how one go about find , for example , a thirty megawatt klystron tube ; but -PRON- be hsi 's problem . -PRON- say : \" all right , -PRON- will see -PRON- monday . \" \" wait a minute , chandler . \" hsi eye -PRON- . \" -PRON- do not have anything special to do , do -PRON- ? well , come have dinner with -PRON- . maybe -PRON- can get to know -PRON- . then maybe -PRON- can answer some of -PRON- question , if -PRON- like . \"\n",
      "Tf_idf vector: {'radar': 0.05707054152686125, 'device': 0.058854356168664745, 'sixty': 0.05083333354980114, 'hsi': 0.2541666677490057, 'tripler': 0.05416235871919333, 'grumble': 0.0499070881769124, 'koitska': 0.08763839395099611, 'states': 0.058854356168664745, 'united': 0.05707054152686125, 'honolulu': 0.09360553390485978, 'scowl': 0.045515676187239326, 'training': 0.05552533099927255, 'reject': 0.058854356168664745, 'scatter': 0.05552533099927255, 'lunch': 0.05294313846853334, 'chandler': 0.3300747367027042, 'breakfast': 0.05416235871919333, 'till': 0.05294313846853334, 'copy': 0.05083333354980114, 'fantastic': 0.05294313846853334, 'analysis': 0.05707054152686125, 'page': 0.05294313846853334, 'smoke': 0.04680276695242989, 'radio': 0.12565819667414635, 'secret': 0.04825114101906193, 'sheaf': 0.05416235871919333, 'thirty': 0.04144933865085831, 'island': 0.044922115849669736, 'panel': 0.0499070881769124, 'rule': 0.04904951890799764, 'molecule': 0.058854356168664745, 'list': 0.20736087837744668, 'nation': 0.05707054152686125, 'evidently': 0.04825114101906193, 'although': 0.04330480608849917, 'involve': 0.04904951890799764, 'tough': 0.058854356168664745, 'write': 0.045515676187239326, 'burn': 0.03878174433356628, 'enormous': 0.05083333354980114, 'question': 0.07438813621715475, 'dozen': 0.040622423411935574, 'though': 0.027137658123624588, 'nor': 0.043819196975498055, 'speak': 0.03479128831207391, 'test': 0.03690109323080613, 'example': 0.16248707615757998, 'entirely': 0.0499070881769124, 'system': 0.07970135638391923, 'immediately': 0.04102849628913403, 'impossible': 0.04435752145852623, 'assume': 0.05552533099927255, 'complicated': 0.05707054152686125, 'envelope': 0.17656306850599426, 'handle': 0.04281231093093753, 'circuit': 0.05552533099927255, 'absorb': 0.05707054152686125, 'respond': 0.05294313846853334, 'main': 0.0499070881769124, 'suggest': 0.04750430838040894, 'together': 0.036615353045083655, 'case': 0.04188606555804879, 'tomorrow': 0.04825114101906193, 'less': 0.07212841304491091, 'pillow': 0.058854356168664745, 'problem': 0.04233992331893053, 'such': 0.03146226314268172, 'phone': 0.04281231093093753, 'check': 0.07498930713675145, 'transmitter': 0.09228267220065944, 'until': 0.028736318582523283, 'original': 0.05184021959436167, 'least': 0.03364461933076043, 'distance': 0.08871504291705246, 'remember': 0.09331853072148909, 'three': 0.053540531386420606, 'faint': 0.044922115849669736, 'directly': 0.05294313846853334, 'possibility': 0.10832471743838666, 'find': 0.08642352252692759, 'special': 0.04825114101906193, 'clear': 0.036064206522455455, 'build': 0.034089746884094864, 'puzzle': 0.04825114101906193, 'longer': 0.04435752145852623, 'anything': 0.02530063929818952, 'since': 0.035538120950726906, 'hundred': 0.03321598182589525, 'purpose': 0.04614133610032972, 'during': 0.043819196975498055, 'hour': 0.030591786020164144, 'type': 0.04281231093093753, 'safe': 0.04233992331893053, 'state': 0.04102849628913403, 'fade': 0.04435752145852623, 'use': 0.02448104804024235, 'paper': 0.040622423411935574, 'wave': 0.11533891127518447, 'radiation': 0.08984423169933947, 'carefully': 0.03878174433356628, 'band': 0.05294313846853334, 'project': 0.04750430838040894, 'tube': 0.04680276695242989, 'slip': 0.03844630375839483, 'give': 0.022570763401300528, 'pile': 0.04188606555804879, 'hard': 0.030261138110024993, 'line': 0.061864320502315086, 'sight': 0.03503491603806941, 'enough': 0.026182733951533824, 'telephone': 0.04750430838040894, 'answer': 0.06403564104946505, 'simple': 0.08763839395099611, 'afraid': 0.03690109323080613, 'message': 0.04614133610032972, 'very': 0.023532000907158093, 'theory': 0.15882941540560003, 'million': 0.04102849628913403, 'frown': 0.04144933865085831, 'first': 0.021839664129524095, 'wonder': 0.03431890070006693, 'everything': 0.0328026561189043, 'which': 0.07344314412072704, 'edge': 0.04281231093093753, 'neither': 0.04435752145852623, 'energy': 0.05707054152686125, 'reach': 0.030099290862602497, 'fraction': 0.05416235871919333, 'gas': 0.05294313846853334, 'course': 0.02764639453235065, 'cover': 0.07970135638391923, 'content': 0.09809903781599529, 'spill': 0.058854356168664745, 'desk': 0.039483285761545334, 'invade': 0.05552533099927255, 'real': 0.037494653568375724, 'return': 0.0668566320639894, 'plenty': 0.04281231093093753, 'lock': 0.04023011840019832, 'late': 0.040622423411935574, 'second': 0.03042528113953122, 'eyed': 0.04680276695242989, 'between': 0.035538120950726906, 'thought': 0.07006983207613882, 'power': 0.03844630375839483, 'field': 0.037803255578238416, 'instead': 0.08124484682387115, 'perhaps': 0.0705675669392711, 'read': 0.03479128831207391, 'sit': 0.05330069733230402, 'quite': 0.031106176907163035, 'work': 0.12493225525703405, 'study': 0.03844630375839483, 'follow': 0.03240358589823125, 'wait': 0.054778461695820534, 'slit': 0.05294313846853334, 'possible': 0.03912719952602665, 'moment': 0.054275316247249177, 'disappear': 0.044922115849669736, 'so': 0.033019167821275175, 'night': 0.06152144342940535, 'than': 0.0214526083306485, 'bed': 0.07212841304491091, 'city': 0.07159634871326889, 'too': 0.021004608271514257, 'great': 0.029939676062289294, 'far': 0.028454063380882293, 'room': 0.025514939673617485, 'startled': 0.05294313846853334, 'part': 0.057760141223885036, 'own': 0.026891438418772902, 'every': 0.02817852918396347, 'realize': 0.032601400793071965, 'hear': 0.025844020320321567, 'foot': 0.02790940334360055, 'door': 0.028315476220799003, 'only': 0.07747283291618663, 'short': 0.07212841304491091, 'will': 0.06848582509391564, 'need': 0.05747263716504657, 'understand': 0.06256570081689194, 'now': 0.037378258454371836, 'minute': 0.08707689267113361, 'think': 0.01722665599395427, 'suppose': 0.030261138110024993, 'after': 0.022487211489190955, 'because': 0.025955826886283333, 'behind': 0.02817852918396347, 'where': 0.022158908915410686, 'right': 0.05966514217421082, 'bus': 0.04750430838040894, 'an': 0.032527774009128305, 'show': 0.03146226314268172, 'half': 0.028880070611942518, 'better': 0.036064206522455455, 'more': 0.018276855462339703, 'talk': 0.028594330426220043, 'well': 0.04352242068102239, 'catch': 0.032017820524732524, 'nod': 0.02932236226535954, 'why': 0.021605880631731897, 'shake': 0.028043183903591843, 'push': 0.035798174356634446, 'thick': 0.043819196975498055, 'eye': 0.021761210340511195, 'away': 0.022240115491161384, 'way': 0.056067387681557744, 'any': 0.01988838072473694, 'few': 0.0725642194874133, 'by': 0.01743996875398903, 'later': 0.03431890070006693, 'glance': 0.036615353045083655, 'begin': 0.04761726590846478, 'about': 0.051679967981862814, 'call': 0.026770265693210303, 'know': 0.06466820217442996, 'thing': 0.01949607571299969, 'shrug': 0.07380218646161225, 'or': 0.01771226107119619, 'reason': 0.036615353045083655, 'good': 0.018451748809853254, 'easy': 0.039850678191959615, 'take': 0.03424291254695782, 'cigarette': 0.04102849628913403, 'walk': 0.028454063380882293, 'how': 0.02050296175756022, 'point': 0.060522276220049985, 'stand': 0.02468056832003274, 'leave': 0.0229978188582372, 'can': 0.07041029637213282, 'this': 0.06352524143154008, 'here': 0.04017927210113856, 'come': 0.04982802659107354, 'look': 0.03321868439404903, 'hand': 0.04336656972769648, 'face': 0.022570763401300528, 'strange': 0.03431890070006693, 'if': 0.016263887004564152, 'make': 0.032920050842757474, 'put': 0.04976717826726682, 'what': 0.0903847900166149, 'some': 0.03848347646381667, 'pass': 0.03146226314268172, 'turn': 0.022078268243738892, 'no': 0.08431283257384901, 'even': 0.0214526083306485, 'maybe': 0.05102987934723497, 'dinner': 0.0499070881769124, 'just': 0.018992870800342187, 'would': 0.06390310114802121, 'without': 0.0257332836900598, 'open': 0.028043183903591843, 'again': 0.06551899238857228, 'start': 0.024382563279367643, 'down': 0.018161711332670208, 'over': 0.018689129227185918, 'long': 0.021839664129524095, 'like': 0.01588131035788502, 'could': 0.11316935380525243, 'into': 0.03362295282334036, 'back': 0.05346899310437388, 'store': 0.09500861676081788, 'get': 0.07620402585359377, 'square': 0.04233992331893053, 'day': 0.09872227328013096, 'then': 0.09642610628397807, 'try': 0.023085154288299423, 'see': 0.016312610822042842, 'when': 0.03774083159981859, 'man': 0.05330249077721285, 'practical': 0.04904951890799764}\n"
     ]
    }
   ],
   "source": [
    "X_train, X_test, y_train, y_test = train_test_split(both_sents, \n",
    "                                                    df['author'], \n",
    "                                                    test_size=0.25, \n",
    "                                                    random_state=0)\n",
    "\n",
    "vectorizer_tfidf = TfidfVectorizer(max_df=0.75, # drop words that occur in more than this % of paragraphs\n",
    "                             min_df=5, # only use words that appear at least 5 times\n",
    "                             #stop_words='english', \n",
    "                             lowercase=True, #convert everything to lower case\n",
    "                             use_idf=True,#we definitely want to use inverse document frequencies in our weighting\n",
    "                             norm=u'l2', #Applies a correction factor so that longer paragraphs and shorter paragraphs get treated equally\n",
    "                             smooth_idf=True #Adds 1 to all document frequencies, as if an extra document existed that used every word once.  Prevents divide-by-zero errors\n",
    "                            )\n",
    "\n",
    "\n",
    "#Applying the vectorizer\n",
    "tfidf = vectorizer_tfidf.fit_transform(both_sents)\n",
    "print(\"Number of features: %d\" % tfidf.get_shape()[1])\n",
    "\n",
    "#splitting into training and test sets\n",
    "X_train_tfidf, X_test_tfidf = train_test_split(tfidf, test_size=0.25, random_state=0)\n",
    "\n",
    "\n",
    "#Reshapes the vectorizer output into something people can read\n",
    "X_train_tfidf_csr = X_train_tfidf.tocsr()\n",
    "\n",
    "#number of paragraphs\n",
    "n = X_train_tfidf_csr.shape[0]\n",
    "#A list of dictionaries, one per paragraph\n",
    "tfidf_bypara = [{} for _ in range(0,n)]\n",
    "#List of features\n",
    "terms = vectorizer_tfidf.get_feature_names()\n",
    "#for each paragraph, lists the feature words and their tf-idf scores\n",
    "for i, j in zip(*X_train_tfidf_csr.nonzero()):\n",
    "    tfidf_bypara[i][terms[j]] = X_train_tfidf_csr[i, j]\n",
    "\n",
    "#Keep in mind that the log base 2 of 1 is 0, so a tf-idf score of 0 indicates that the word was present once in that sentence.\n",
    "print('Original sentence:', X_train[1])\n",
    "print('Tf_idf vector:', tfidf_bypara[1])"
   ]
  },
  {
   "cell_type": "code",
   "execution_count": 27,
   "metadata": {},
   "outputs": [],
   "source": [
    "df_tfidf = pd.DataFrame(tfidf.toarray(), columns=list(terms))"
   ]
  },
  {
   "cell_type": "code",
   "execution_count": 28,
   "metadata": {},
   "outputs": [
    {
     "data": {
      "text/html": [
       "<div>\n",
       "<style scoped>\n",
       "    .dataframe tbody tr th:only-of-type {\n",
       "        vertical-align: middle;\n",
       "    }\n",
       "\n",
       "    .dataframe tbody tr th {\n",
       "        vertical-align: top;\n",
       "    }\n",
       "\n",
       "    .dataframe thead th {\n",
       "        text-align: right;\n",
       "    }\n",
       "</style>\n",
       "<table border=\"1\" class=\"dataframe\">\n",
       "  <thead>\n",
       "    <tr style=\"text-align: right;\">\n",
       "      <th></th>\n",
       "      <th>15th</th>\n",
       "      <th>abandon</th>\n",
       "      <th>ability</th>\n",
       "      <th>able</th>\n",
       "      <th>aboard</th>\n",
       "      <th>about</th>\n",
       "      <th>above</th>\n",
       "      <th>abruptly</th>\n",
       "      <th>absently</th>\n",
       "      <th>absolute</th>\n",
       "      <th>...</th>\n",
       "      <th>yell</th>\n",
       "      <th>yellow</th>\n",
       "      <th>yes</th>\n",
       "      <th>yesterday</th>\n",
       "      <th>yet</th>\n",
       "      <th>york</th>\n",
       "      <th>young</th>\n",
       "      <th>youth</th>\n",
       "      <th>zone</th>\n",
       "      <th>zoroaster</th>\n",
       "    </tr>\n",
       "  </thead>\n",
       "  <tbody>\n",
       "    <tr>\n",
       "      <th>0</th>\n",
       "      <td>0.0</td>\n",
       "      <td>0.0</td>\n",
       "      <td>0.000000</td>\n",
       "      <td>0.0</td>\n",
       "      <td>0.0</td>\n",
       "      <td>0.000000</td>\n",
       "      <td>0.000000</td>\n",
       "      <td>0.000000</td>\n",
       "      <td>0.000000</td>\n",
       "      <td>0.0</td>\n",
       "      <td>...</td>\n",
       "      <td>0.0</td>\n",
       "      <td>0.000000</td>\n",
       "      <td>0.0</td>\n",
       "      <td>0.0</td>\n",
       "      <td>0.000000</td>\n",
       "      <td>0.0</td>\n",
       "      <td>0.00000</td>\n",
       "      <td>0.0</td>\n",
       "      <td>0.000000</td>\n",
       "      <td>0.0</td>\n",
       "    </tr>\n",
       "    <tr>\n",
       "      <th>1</th>\n",
       "      <td>0.0</td>\n",
       "      <td>0.0</td>\n",
       "      <td>0.000000</td>\n",
       "      <td>0.0</td>\n",
       "      <td>0.0</td>\n",
       "      <td>0.029705</td>\n",
       "      <td>0.000000</td>\n",
       "      <td>0.000000</td>\n",
       "      <td>0.000000</td>\n",
       "      <td>0.0</td>\n",
       "      <td>...</td>\n",
       "      <td>0.0</td>\n",
       "      <td>0.000000</td>\n",
       "      <td>0.0</td>\n",
       "      <td>0.0</td>\n",
       "      <td>0.000000</td>\n",
       "      <td>0.0</td>\n",
       "      <td>0.00000</td>\n",
       "      <td>0.0</td>\n",
       "      <td>0.000000</td>\n",
       "      <td>0.0</td>\n",
       "    </tr>\n",
       "    <tr>\n",
       "      <th>2</th>\n",
       "      <td>0.0</td>\n",
       "      <td>0.0</td>\n",
       "      <td>0.000000</td>\n",
       "      <td>0.0</td>\n",
       "      <td>0.0</td>\n",
       "      <td>0.000000</td>\n",
       "      <td>0.073945</td>\n",
       "      <td>0.000000</td>\n",
       "      <td>0.000000</td>\n",
       "      <td>0.0</td>\n",
       "      <td>...</td>\n",
       "      <td>0.0</td>\n",
       "      <td>0.031016</td>\n",
       "      <td>0.0</td>\n",
       "      <td>0.0</td>\n",
       "      <td>0.021093</td>\n",
       "      <td>0.0</td>\n",
       "      <td>0.00000</td>\n",
       "      <td>0.0</td>\n",
       "      <td>0.000000</td>\n",
       "      <td>0.0</td>\n",
       "    </tr>\n",
       "    <tr>\n",
       "      <th>3</th>\n",
       "      <td>0.0</td>\n",
       "      <td>0.0</td>\n",
       "      <td>0.069899</td>\n",
       "      <td>0.0</td>\n",
       "      <td>0.0</td>\n",
       "      <td>0.000000</td>\n",
       "      <td>0.000000</td>\n",
       "      <td>0.059547</td>\n",
       "      <td>0.000000</td>\n",
       "      <td>0.0</td>\n",
       "      <td>...</td>\n",
       "      <td>0.0</td>\n",
       "      <td>0.000000</td>\n",
       "      <td>0.0</td>\n",
       "      <td>0.0</td>\n",
       "      <td>0.000000</td>\n",
       "      <td>0.0</td>\n",
       "      <td>0.00000</td>\n",
       "      <td>0.0</td>\n",
       "      <td>0.000000</td>\n",
       "      <td>0.0</td>\n",
       "    </tr>\n",
       "    <tr>\n",
       "      <th>4</th>\n",
       "      <td>0.0</td>\n",
       "      <td>0.0</td>\n",
       "      <td>0.000000</td>\n",
       "      <td>0.0</td>\n",
       "      <td>0.0</td>\n",
       "      <td>0.014368</td>\n",
       "      <td>0.000000</td>\n",
       "      <td>0.000000</td>\n",
       "      <td>0.047601</td>\n",
       "      <td>0.0</td>\n",
       "      <td>...</td>\n",
       "      <td>0.0</td>\n",
       "      <td>0.000000</td>\n",
       "      <td>0.0</td>\n",
       "      <td>0.0</td>\n",
       "      <td>0.000000</td>\n",
       "      <td>0.0</td>\n",
       "      <td>0.02882</td>\n",
       "      <td>0.0</td>\n",
       "      <td>0.047601</td>\n",
       "      <td>0.0</td>\n",
       "    </tr>\n",
       "  </tbody>\n",
       "</table>\n",
       "<p>5 rows × 2681 columns</p>\n",
       "</div>"
      ],
      "text/plain": [
       "   15th  abandon   ability  able  aboard     about     above  abruptly  \\\n",
       "0   0.0      0.0  0.000000   0.0     0.0  0.000000  0.000000  0.000000   \n",
       "1   0.0      0.0  0.000000   0.0     0.0  0.029705  0.000000  0.000000   \n",
       "2   0.0      0.0  0.000000   0.0     0.0  0.000000  0.073945  0.000000   \n",
       "3   0.0      0.0  0.069899   0.0     0.0  0.000000  0.000000  0.059547   \n",
       "4   0.0      0.0  0.000000   0.0     0.0  0.014368  0.000000  0.000000   \n",
       "\n",
       "   absently  absolute    ...      yell    yellow  yes  yesterday       yet  \\\n",
       "0  0.000000       0.0    ...       0.0  0.000000  0.0        0.0  0.000000   \n",
       "1  0.000000       0.0    ...       0.0  0.000000  0.0        0.0  0.000000   \n",
       "2  0.000000       0.0    ...       0.0  0.031016  0.0        0.0  0.021093   \n",
       "3  0.000000       0.0    ...       0.0  0.000000  0.0        0.0  0.000000   \n",
       "4  0.047601       0.0    ...       0.0  0.000000  0.0        0.0  0.000000   \n",
       "\n",
       "   york    young  youth      zone  zoroaster  \n",
       "0   0.0  0.00000    0.0  0.000000        0.0  \n",
       "1   0.0  0.00000    0.0  0.000000        0.0  \n",
       "2   0.0  0.00000    0.0  0.000000        0.0  \n",
       "3   0.0  0.00000    0.0  0.000000        0.0  \n",
       "4   0.0  0.02882    0.0  0.047601        0.0  \n",
       "\n",
       "[5 rows x 2681 columns]"
      ]
     },
     "execution_count": 28,
     "metadata": {},
     "output_type": "execute_result"
    }
   ],
   "source": [
    "df_tfidf.head()"
   ]
  },
  {
   "cell_type": "code",
   "execution_count": null,
   "metadata": {},
   "outputs": [],
   "source": [
    "#Only run join once\n",
    "#df_tfidf = df_tfidf.join(df_pos, lsuffix='tfidf', rsuffix='pos')\n",
    "#df_tfidf['all_caps'] = df['all_caps']"
   ]
  },
  {
   "cell_type": "code",
   "execution_count": 29,
   "metadata": {},
   "outputs": [
    {
     "data": {
      "text/html": [
       "<div>\n",
       "<style scoped>\n",
       "    .dataframe tbody tr th:only-of-type {\n",
       "        vertical-align: middle;\n",
       "    }\n",
       "\n",
       "    .dataframe tbody tr th {\n",
       "        vertical-align: top;\n",
       "    }\n",
       "\n",
       "    .dataframe thead th {\n",
       "        text-align: right;\n",
       "    }\n",
       "</style>\n",
       "<table border=\"1\" class=\"dataframe\">\n",
       "  <thead>\n",
       "    <tr style=\"text-align: right;\">\n",
       "      <th></th>\n",
       "      <th>15th</th>\n",
       "      <th>abandon</th>\n",
       "      <th>ability</th>\n",
       "      <th>able</th>\n",
       "      <th>aboard</th>\n",
       "      <th>about</th>\n",
       "      <th>above</th>\n",
       "      <th>abruptly</th>\n",
       "      <th>absently</th>\n",
       "      <th>absolute</th>\n",
       "      <th>...</th>\n",
       "      <th>yell</th>\n",
       "      <th>yellow</th>\n",
       "      <th>yes</th>\n",
       "      <th>yesterday</th>\n",
       "      <th>yet</th>\n",
       "      <th>york</th>\n",
       "      <th>young</th>\n",
       "      <th>youth</th>\n",
       "      <th>zone</th>\n",
       "      <th>zoroaster</th>\n",
       "    </tr>\n",
       "  </thead>\n",
       "  <tbody>\n",
       "    <tr>\n",
       "      <th>0</th>\n",
       "      <td>0.0</td>\n",
       "      <td>0.0</td>\n",
       "      <td>0.000000</td>\n",
       "      <td>0.0</td>\n",
       "      <td>0.0</td>\n",
       "      <td>0.000000</td>\n",
       "      <td>0.000000</td>\n",
       "      <td>0.000000</td>\n",
       "      <td>0.000000</td>\n",
       "      <td>0.0</td>\n",
       "      <td>...</td>\n",
       "      <td>0.0</td>\n",
       "      <td>0.000000</td>\n",
       "      <td>0.0</td>\n",
       "      <td>0.0</td>\n",
       "      <td>0.000000</td>\n",
       "      <td>0.0</td>\n",
       "      <td>0.00000</td>\n",
       "      <td>0.0</td>\n",
       "      <td>0.000000</td>\n",
       "      <td>0.0</td>\n",
       "    </tr>\n",
       "    <tr>\n",
       "      <th>1</th>\n",
       "      <td>0.0</td>\n",
       "      <td>0.0</td>\n",
       "      <td>0.000000</td>\n",
       "      <td>0.0</td>\n",
       "      <td>0.0</td>\n",
       "      <td>0.029705</td>\n",
       "      <td>0.000000</td>\n",
       "      <td>0.000000</td>\n",
       "      <td>0.000000</td>\n",
       "      <td>0.0</td>\n",
       "      <td>...</td>\n",
       "      <td>0.0</td>\n",
       "      <td>0.000000</td>\n",
       "      <td>0.0</td>\n",
       "      <td>0.0</td>\n",
       "      <td>0.000000</td>\n",
       "      <td>0.0</td>\n",
       "      <td>0.00000</td>\n",
       "      <td>0.0</td>\n",
       "      <td>0.000000</td>\n",
       "      <td>0.0</td>\n",
       "    </tr>\n",
       "    <tr>\n",
       "      <th>2</th>\n",
       "      <td>0.0</td>\n",
       "      <td>0.0</td>\n",
       "      <td>0.000000</td>\n",
       "      <td>0.0</td>\n",
       "      <td>0.0</td>\n",
       "      <td>0.000000</td>\n",
       "      <td>0.073945</td>\n",
       "      <td>0.000000</td>\n",
       "      <td>0.000000</td>\n",
       "      <td>0.0</td>\n",
       "      <td>...</td>\n",
       "      <td>0.0</td>\n",
       "      <td>0.031016</td>\n",
       "      <td>0.0</td>\n",
       "      <td>0.0</td>\n",
       "      <td>0.021093</td>\n",
       "      <td>0.0</td>\n",
       "      <td>0.00000</td>\n",
       "      <td>0.0</td>\n",
       "      <td>0.000000</td>\n",
       "      <td>0.0</td>\n",
       "    </tr>\n",
       "    <tr>\n",
       "      <th>3</th>\n",
       "      <td>0.0</td>\n",
       "      <td>0.0</td>\n",
       "      <td>0.069899</td>\n",
       "      <td>0.0</td>\n",
       "      <td>0.0</td>\n",
       "      <td>0.000000</td>\n",
       "      <td>0.000000</td>\n",
       "      <td>0.059547</td>\n",
       "      <td>0.000000</td>\n",
       "      <td>0.0</td>\n",
       "      <td>...</td>\n",
       "      <td>0.0</td>\n",
       "      <td>0.000000</td>\n",
       "      <td>0.0</td>\n",
       "      <td>0.0</td>\n",
       "      <td>0.000000</td>\n",
       "      <td>0.0</td>\n",
       "      <td>0.00000</td>\n",
       "      <td>0.0</td>\n",
       "      <td>0.000000</td>\n",
       "      <td>0.0</td>\n",
       "    </tr>\n",
       "    <tr>\n",
       "      <th>4</th>\n",
       "      <td>0.0</td>\n",
       "      <td>0.0</td>\n",
       "      <td>0.000000</td>\n",
       "      <td>0.0</td>\n",
       "      <td>0.0</td>\n",
       "      <td>0.014368</td>\n",
       "      <td>0.000000</td>\n",
       "      <td>0.000000</td>\n",
       "      <td>0.047601</td>\n",
       "      <td>0.0</td>\n",
       "      <td>...</td>\n",
       "      <td>0.0</td>\n",
       "      <td>0.000000</td>\n",
       "      <td>0.0</td>\n",
       "      <td>0.0</td>\n",
       "      <td>0.000000</td>\n",
       "      <td>0.0</td>\n",
       "      <td>0.02882</td>\n",
       "      <td>0.0</td>\n",
       "      <td>0.047601</td>\n",
       "      <td>0.0</td>\n",
       "    </tr>\n",
       "  </tbody>\n",
       "</table>\n",
       "<p>5 rows × 2681 columns</p>\n",
       "</div>"
      ],
      "text/plain": [
       "   15th  abandon   ability  able  aboard     about     above  abruptly  \\\n",
       "0   0.0      0.0  0.000000   0.0     0.0  0.000000  0.000000  0.000000   \n",
       "1   0.0      0.0  0.000000   0.0     0.0  0.029705  0.000000  0.000000   \n",
       "2   0.0      0.0  0.000000   0.0     0.0  0.000000  0.073945  0.000000   \n",
       "3   0.0      0.0  0.069899   0.0     0.0  0.000000  0.000000  0.059547   \n",
       "4   0.0      0.0  0.000000   0.0     0.0  0.014368  0.000000  0.000000   \n",
       "\n",
       "   absently  absolute    ...      yell    yellow  yes  yesterday       yet  \\\n",
       "0  0.000000       0.0    ...       0.0  0.000000  0.0        0.0  0.000000   \n",
       "1  0.000000       0.0    ...       0.0  0.000000  0.0        0.0  0.000000   \n",
       "2  0.000000       0.0    ...       0.0  0.031016  0.0        0.0  0.021093   \n",
       "3  0.000000       0.0    ...       0.0  0.000000  0.0        0.0  0.000000   \n",
       "4  0.047601       0.0    ...       0.0  0.000000  0.0        0.0  0.000000   \n",
       "\n",
       "   york    young  youth      zone  zoroaster  \n",
       "0   0.0  0.00000    0.0  0.000000        0.0  \n",
       "1   0.0  0.00000    0.0  0.000000        0.0  \n",
       "2   0.0  0.00000    0.0  0.000000        0.0  \n",
       "3   0.0  0.00000    0.0  0.000000        0.0  \n",
       "4   0.0  0.02882    0.0  0.047601        0.0  \n",
       "\n",
       "[5 rows x 2681 columns]"
      ]
     },
     "execution_count": 29,
     "metadata": {},
     "output_type": "execute_result"
    }
   ],
   "source": [
    "df_tfidf.head()"
   ]
  },
  {
   "cell_type": "code",
   "execution_count": 57,
   "metadata": {},
   "outputs": [
    {
     "name": "stdout",
     "output_type": "stream",
     "text": [
      "Percent variance captured by all components: 90.59\n"
     ]
    }
   ],
   "source": [
    "X_train2, X_test2, y_train2, y_test2 = train_test_split(df_tfidf, \n",
    "                                                    df['author'], \n",
    "                                                    test_size=0.25, \n",
    "                                                    random_state=0)\n",
    "\n",
    "#Our SVD data reducer.  We are going to reduce the feature space.\n",
    "svd= TruncatedSVD(200)\n",
    "lsa = make_pipeline(svd, Normalizer(copy=False))\n",
    "# Run SVD on the training data, then project the training data.\n",
    "\n",
    "\n",
    "X_train_lsa = lsa.fit_transform(X_train2)\n",
    "X_test_lsa = lsa.transform(X_test2)\n",
    "\n",
    "variance_explained=svd.explained_variance_ratio_\n",
    "total_variance = variance_explained.sum()\n",
    "print(\"Percent variance captured by all components: {:.2f}\".format(total_variance*100))\n",
    "\n",
    "#Looking at what sorts of paragraphs our solution considers similar, for the first five identified topics\n",
    "#paras_by_component=pd.DataFrame(X_train_lsa, index=X_train)\n",
    "#for i in range(5):\n",
    "#    print('Component {}:'.format(i))\n",
    "#    print(paras_by_component.loc[:,i].sort_values(ascending=False)[0:10])"
   ]
  },
  {
   "cell_type": "code",
   "execution_count": 80,
   "metadata": {},
   "outputs": [
    {
     "name": "stdout",
     "output_type": "stream",
     "text": [
      "Cluster 0: captain torkel lieutenant fox gundy van garcia washington kelly sirians\n",
      "Cluster 1: johnny ship would nordenfeld can quade will get this what\n",
      "Cluster 2: tasso hendricks klaus hendrick bunker ash david come major claws\n",
      "Cluster 3: burckhardt dorchin feckle swanson barth freezer mr robot dream wife\n",
      "Cluster 4: chandler get craig what moklin could like know would look\n",
      "Cluster 5: pa ma blanket nest air sis get would keep pail\n",
      "Cluster 6: dr brinton harvey morton senator bed chime sleep get department\n",
      "Cluster 7: loyce man cop hall store bus move car down get\n",
      "Cluster 8: doc coffee casey martian know miss book dirty name hand\n",
      "Cluster 9: charlie prone baxter accident would bronoski an if sir laura\n"
     ]
    }
   ],
   "source": [
    "# https://scikit-learn.org/stable/auto_examples/text/plot_document_clustering.html#sphx-glr-auto-examples-text-plot-document-clustering-py\n",
    "\n"
   ]
  },
  {
   "cell_type": "code",
   "execution_count": 77,
   "metadata": {},
   "outputs": [
    {
     "data": {
      "text/plain": [
       "array([[ 0.00587566,  0.00412973,  0.00448584, ...,  0.00404299,\n",
       "         0.0022157 ,  0.00281275],\n",
       "       [-0.00153965,  0.00331902, -0.00105986, ..., -0.00342417,\n",
       "        -0.00031022, -0.00198764],\n",
       "       [-0.00383786, -0.00211063,  0.00303477, ..., -0.00570754,\n",
       "         0.00040105,  0.00116417],\n",
       "       ...,\n",
       "       [ 0.01410248,  0.02006278,  0.00421226, ..., -0.0041181 ,\n",
       "        -0.02555831,  0.0002428 ],\n",
       "       [-0.02363187,  0.00068321,  0.00598949, ..., -0.02246443,\n",
       "        -0.01398809,  0.00329867],\n",
       "       [ 0.03844789,  0.00722909, -0.01090599, ...,  0.02607777,\n",
       "        -0.0125676 ,  0.00232075]])"
      ]
     },
     "execution_count": 77,
     "metadata": {},
     "output_type": "execute_result"
    }
   ],
   "source": [
    "svd.components_ "
   ]
  },
  {
   "cell_type": "code",
   "execution_count": 58,
   "metadata": {},
   "outputs": [
    {
     "name": "stdout",
     "output_type": "stream",
     "text": [
      "Number of estimated clusters: 1\n"
     ]
    }
   ],
   "source": [
    "# Here we set the bandwidth. This function automatically derives a bandwidth\n",
    "# number based on an inspection of the distances among points in the data.\n",
    "bandwidth = estimate_bandwidth(X_train_lsa, quantile=0.02)\n",
    "\n",
    "# Declare and fit the model.\n",
    "ms = MeanShift(bandwidth=bandwidth, bin_seeding=True)\n",
    "ms.fit(X_train_lsa)\n",
    "\n",
    "# Extract cluster assignments for each data point.\n",
    "labels = ms.labels_\n",
    "\n",
    "# Coordinates of the cluster centers.\n",
    "cluster_centers = ms.cluster_centers_\n",
    "\n",
    "# Count our clusters.\n",
    "n_clusters_ = len(np.unique(labels))\n",
    "\n",
    "print(\"Number of estimated clusters: {}\".format(n_clusters_))"
   ]
  },
  {
   "cell_type": "code",
   "execution_count": 59,
   "metadata": {},
   "outputs": [
    {
     "data": {
      "image/png": "[encoded data removed]",
      "text/plain": [
       "<Figure size 432x288 with 1 Axes>"
      ]
     },
     "metadata": {
      "needs_background": "light"
     },
     "output_type": "display_data"
    },
    {
     "name": "stdout",
     "output_type": "stream",
     "text": [
      "Comparing the assigned categories to the ones in the data:\n",
      "col_0         0\n",
      "author         \n",
      "dick         43\n",
      "harmon       29\n",
      "leiber       14\n",
      "leinster     24\n",
      "ludwig       28\n",
      "mckenty      11\n",
      "pohl         59\n",
      "quattrocchi  22\n",
      "reynolds     22\n",
      "stetcher     15\n"
     ]
    }
   ],
   "source": [
    "plt.scatter(X_train_lsa[:, 0], X_train_lsa[:,1], c=labels)\n",
    "plt.show()\n",
    "\n",
    "print('Comparing the assigned categories to the ones in the data:')\n",
    "print(pd.crosstab(y_train2,labels))"
   ]
  },
  {
   "cell_type": "markdown",
   "metadata": {},
   "source": [
    "## Kmeans, 10 clusters"
   ]
  },
  {
   "cell_type": "code",
   "execution_count": 82,
   "metadata": {},
   "outputs": [
    {
     "data": {
      "image/png": "[encoded data removed]",
      "text/plain": [
       "<Figure size 432x288 with 1 Axes>"
      ]
     },
     "metadata": {
      "needs_background": "light"
     },
     "output_type": "display_data"
    },
    {
     "data": {
      "image/png": "[encoded data removed]",
      "text/plain": [
       "<Figure size 432x288 with 1 Axes>"
      ]
     },
     "metadata": {
      "needs_background": "light"
     },
     "output_type": "display_data"
    },
    {
     "name": "stdout",
     "output_type": "stream",
     "text": [
      "Comparing k-means clusters against the data:\n",
      "col_0         0   1   2   3   4   5   6   7   8  9\n",
      "author                                            \n",
      "dick          0  35   0   7   0   0   1   0   0  0\n",
      "harmon        0   0   0   3   0   0  16   0  10  0\n",
      "leiber        0   0   0   0   0   0   5   0   0  9\n",
      "leinster      0   0  15   0   0   0   1   0   0  8\n",
      "ludwig        0   0   0   3   0  20   5   0   0  0\n",
      "mckenty       0   0   0   9   0   0   2   0   0  0\n",
      "pohl         19   0   0   0  38   0   2   0   0  0\n",
      "quattrocchi   0   0   0  11   0   0  11   0   0  0\n",
      "reynolds      0   0   0   0   0   0  11  11   0  0\n",
      "stetcher      0   0   0   1   0   0  11   0   0  3\n",
      "\n",
      "Crosstab with label encoded values.  Columns are clusters\n",
      "\n",
      "col_0   0   1   2   3   4   5   6   7   8  9\n",
      "row_0                                       \n",
      "0       0  35   0   7   0   0   1   0   0  0\n",
      "1       0   0   0   3   0   0  16   0  10  0\n",
      "2       0   0   0   0   0   0   5   0   0  9\n",
      "3       0   0  15   0   0   0   1   0   0  8\n",
      "4       0   0   0   3   0  20   5   0   0  0\n",
      "5       0   0   0   9   0   0   2   0   0  0\n",
      "6      19   0   0   0  38   0   2   0   0  0\n",
      "7       0   0   0  11   0   0  11   0   0  0\n",
      "8       0   0   0   0   0   0  11  11   0  0\n",
      "9       0   0   0   1   0   0  11   0   0  3\n",
      "Adjusted Rand Index: 0.45\n",
      "Silhouette Score: 0.08\n"
     ]
    }
   ],
   "source": [
    "# Calculate predicted values.\n",
    "km = KMeans(n_clusters=10)\n",
    "y_pred = km.fit_predict(X_train_lsa)\n",
    "\n",
    "# Plot the solution.\n",
    "plt.scatter(X_train_lsa[:, 0], X_train_lsa[:, 1], c=y_pred)\n",
    "plt.title('Colors are predicted clusters')\n",
    "plt.show()\n",
    "\n",
    "le = LabelEncoder()\n",
    "y_train_enc = le.fit_transform(y_train2)\n",
    "y_test_enc = le.fit_transform(y_test2)\n",
    "\n",
    "sns.scatterplot(X_train_lsa[:, 0], X_train_lsa[:, 1], hue=y_train_enc, legend='full', palette='Set1')\n",
    "plt.title('Colors are actual authors')\n",
    "plt.show()\n",
    "# Check the solution against the data.\n",
    "print('Comparing k-means clusters against the data:')\n",
    "print(pd.crosstab(y_train2, y_pred))\n",
    "print('\\nCrosstab with label encoded values.  Columns are clusters\\n')\n",
    "print(pd.crosstab(y_train_enc, y_pred))\n",
    "print('Adjusted Rand Index: {:.2f}'.format(metrics.adjusted_rand_score(y_train2, \n",
    "                                                                       y_pred)))\n",
    "print('Silhouette Score: {:.2f}'.format(metrics.silhouette_score(X_train_lsa, \n",
    "                                                                y_pred, \n",
    "                                                                metric='euclidean')))\n"
   ]
  },
  {
   "cell_type": "code",
   "execution_count": 86,
   "metadata": {},
   "outputs": [
    {
     "name": "stdout",
     "output_type": "stream",
     "text": [
      "Cluster 0: burckhardt dorchin feckle swanson barth freezer mr robot dream wife door june\n",
      "Cluster 1: tasso hendricks klaus hendrick bunker claws ash come david major down get\n",
      "Cluster 2: nordenfeld jensen kathy ship queen chlorophage doctor passenger altaira air star would\n",
      "Cluster 3: craig loyce dr get brinton what man know would boy will harvey\n",
      "Cluster 4: chandler koitska exec body love could own no what know then man\n",
      "Cluster 5: captain torkel lieutenant fox gundy van garcia washington kelly sirians taaleeb wiley\n",
      "Cluster 6: would quade know can space time ship so alien what this will\n",
      "Cluster 7: johnny mccord derek desage pierre mohammed goat sahara this tuareg hélène desert\n",
      "Cluster 8: prone charlie baxter accident bronoski sir an prones if would position native\n",
      "Cluster 9: moklin pa human get brooks caldwell inspector moklins just ma like blanket\n"
     ]
    }
   ],
   "source": [
    "# https://scikit-learn.org/stable/auto_examples/text/plot_document_clustering.html#sphx-glr-auto-examples-text-plot-document-clustering-py\n",
    "original_space_centroids = svd.inverse_transform(km.cluster_centers_)\n",
    "order_centroids = original_space_centroids.argsort()[:, ::-1]\n",
    "\n",
    "terms = vectorizer_tfidf.get_feature_names()\n",
    "for i in range(10):\n",
    "    print(\"Cluster %d:\" % i, end='')\n",
    "    for ind in order_centroids[i, :12]:\n",
    "        print(' %s' % terms[ind], end='')\n",
    "    print()"
   ]
  },
  {
   "cell_type": "markdown",
   "metadata": {},
   "source": [
    "# Part of Speech clustering"
   ]
  },
  {
   "cell_type": "code",
   "execution_count": 61,
   "metadata": {},
   "outputs": [
    {
     "data": {
      "text/html": [
       "<div>\n",
       "<style scoped>\n",
       "    .dataframe tbody tr th:only-of-type {\n",
       "        vertical-align: middle;\n",
       "    }\n",
       "\n",
       "    .dataframe tbody tr th {\n",
       "        vertical-align: top;\n",
       "    }\n",
       "\n",
       "    .dataframe thead th {\n",
       "        text-align: right;\n",
       "    }\n",
       "</style>\n",
       "<table border=\"1\" class=\"dataframe\">\n",
       "  <thead>\n",
       "    <tr style=\"text-align: right;\">\n",
       "      <th></th>\n",
       "      <th>adj</th>\n",
       "      <th>adp</th>\n",
       "      <th>adv</th>\n",
       "      <th>cconj</th>\n",
       "      <th>det</th>\n",
       "      <th>intj</th>\n",
       "      <th>noun</th>\n",
       "      <th>num</th>\n",
       "      <th>part</th>\n",
       "      <th>pron</th>\n",
       "      <th>propn</th>\n",
       "      <th>punct</th>\n",
       "      <th>sym</th>\n",
       "      <th>verb</th>\n",
       "      <th>all_caps</th>\n",
       "    </tr>\n",
       "  </thead>\n",
       "  <tbody>\n",
       "    <tr>\n",
       "      <th>0</th>\n",
       "      <td>36</td>\n",
       "      <td>43</td>\n",
       "      <td>18</td>\n",
       "      <td>21</td>\n",
       "      <td>46</td>\n",
       "      <td>0</td>\n",
       "      <td>94</td>\n",
       "      <td>3</td>\n",
       "      <td>10</td>\n",
       "      <td>28</td>\n",
       "      <td>9</td>\n",
       "      <td>48</td>\n",
       "      <td>0</td>\n",
       "      <td>63</td>\n",
       "      <td>11</td>\n",
       "    </tr>\n",
       "    <tr>\n",
       "      <th>1</th>\n",
       "      <td>56</td>\n",
       "      <td>62</td>\n",
       "      <td>64</td>\n",
       "      <td>20</td>\n",
       "      <td>73</td>\n",
       "      <td>6</td>\n",
       "      <td>153</td>\n",
       "      <td>2</td>\n",
       "      <td>24</td>\n",
       "      <td>66</td>\n",
       "      <td>50</td>\n",
       "      <td>261</td>\n",
       "      <td>0</td>\n",
       "      <td>175</td>\n",
       "      <td>19</td>\n",
       "    </tr>\n",
       "    <tr>\n",
       "      <th>2</th>\n",
       "      <td>75</td>\n",
       "      <td>103</td>\n",
       "      <td>70</td>\n",
       "      <td>26</td>\n",
       "      <td>120</td>\n",
       "      <td>4</td>\n",
       "      <td>198</td>\n",
       "      <td>5</td>\n",
       "      <td>29</td>\n",
       "      <td>74</td>\n",
       "      <td>43</td>\n",
       "      <td>242</td>\n",
       "      <td>0</td>\n",
       "      <td>187</td>\n",
       "      <td>28</td>\n",
       "    </tr>\n",
       "    <tr>\n",
       "      <th>3</th>\n",
       "      <td>26</td>\n",
       "      <td>55</td>\n",
       "      <td>24</td>\n",
       "      <td>19</td>\n",
       "      <td>51</td>\n",
       "      <td>0</td>\n",
       "      <td>86</td>\n",
       "      <td>1</td>\n",
       "      <td>10</td>\n",
       "      <td>25</td>\n",
       "      <td>14</td>\n",
       "      <td>67</td>\n",
       "      <td>0</td>\n",
       "      <td>80</td>\n",
       "      <td>3</td>\n",
       "    </tr>\n",
       "    <tr>\n",
       "      <th>4</th>\n",
       "      <td>89</td>\n",
       "      <td>84</td>\n",
       "      <td>42</td>\n",
       "      <td>26</td>\n",
       "      <td>85</td>\n",
       "      <td>1</td>\n",
       "      <td>161</td>\n",
       "      <td>4</td>\n",
       "      <td>22</td>\n",
       "      <td>53</td>\n",
       "      <td>19</td>\n",
       "      <td>155</td>\n",
       "      <td>0</td>\n",
       "      <td>128</td>\n",
       "      <td>13</td>\n",
       "    </tr>\n",
       "  </tbody>\n",
       "</table>\n",
       "</div>"
      ],
      "text/plain": [
       "   adj  adp  adv  cconj  det  intj  noun  num  part  pron  propn  punct  sym  \\\n",
       "0   36   43   18     21   46     0    94    3    10    28      9     48    0   \n",
       "1   56   62   64     20   73     6   153    2    24    66     50    261    0   \n",
       "2   75  103   70     26  120     4   198    5    29    74     43    242    0   \n",
       "3   26   55   24     19   51     0    86    1    10    25     14     67    0   \n",
       "4   89   84   42     26   85     1   161    4    22    53     19    155    0   \n",
       "\n",
       "   verb  all_caps  \n",
       "0    63        11  \n",
       "1   175        19  \n",
       "2   187        28  \n",
       "3    80         3  \n",
       "4   128        13  "
      ]
     },
     "execution_count": 61,
     "metadata": {},
     "output_type": "execute_result"
    }
   ],
   "source": [
    "df_pos.head()"
   ]
  },
  {
   "cell_type": "code",
   "execution_count": 62,
   "metadata": {},
   "outputs": [],
   "source": [
    "df_pos['all_caps'] = df['all_caps']"
   ]
  },
  {
   "cell_type": "markdown",
   "metadata": {},
   "source": [
    "## Means Shift"
   ]
  },
  {
   "cell_type": "code",
   "execution_count": 63,
   "metadata": {},
   "outputs": [],
   "source": [
    "#Normalize POS data along feature axis to make up for shorter and longer passages\n",
    "norm = Normalizer(norm='l2')\n",
    "Xpos_norm = norm.fit_transform(df_pos)\n",
    "\n",
    "X_train3, X_test3, y_train3, y_test3 = train_test_split(Xpos_norm, \n",
    "                                                    df['author'], \n",
    "                                                    test_size=0.25, \n",
    "                                                    random_state=0)\n",
    "\n",
    "y_train_text, y_test_text = train_test_split(df['text'], test_size=0.3, random_state=0)"
   ]
  },
  {
   "cell_type": "code",
   "execution_count": 64,
   "metadata": {},
   "outputs": [
    {
     "name": "stdout",
     "output_type": "stream",
     "text": [
      "Number of estimated clusters: 4\n"
     ]
    }
   ],
   "source": [
    "# Here we set the bandwidth. This function automatically derives a bandwidth\n",
    "# number based on an inspection of the distances among points in the data.\n",
    "bandwidth = estimate_bandwidth(X_train3, quantile=0.2)\n",
    "\n",
    "# Declare and fit the model.\n",
    "ms = MeanShift(bandwidth=bandwidth, bin_seeding=True)\n",
    "ms.fit(X_train3)\n",
    "\n",
    "# Extract cluster assignments for each data point.\n",
    "labels = ms.labels_\n",
    "\n",
    "# Coordinates of the cluster centers.\n",
    "cluster_centers = ms.cluster_centers_\n",
    "\n",
    "# Count our clusters.\n",
    "n_clusters_ = len(np.unique(labels))\n",
    "\n",
    "print(\"Number of estimated clusters: {}\".format(n_clusters_))"
   ]
  },
  {
   "cell_type": "code",
   "execution_count": 48,
   "metadata": {},
   "outputs": [
    {
     "data": {
      "image/png": "[encoded data removed]",
      "text/plain": [
       "<Figure size 432x288 with 1 Axes>"
      ]
     },
     "metadata": {
      "needs_background": "light"
     },
     "output_type": "display_data"
    },
    {
     "name": "stdout",
     "output_type": "stream",
     "text": [
      "Comparing the assigned categories to the ones in the data:\n",
      "col_0         0  1  2  3\n",
      "author                  \n",
      "dick         43  0  0  0\n",
      "harmon       29  0  0  0\n",
      "leiber       14  0  0  0\n",
      "leinster     24  0  0  0\n",
      "ludwig       28  0  0  0\n",
      "mckenty      10  0  0  1\n",
      "pohl         59  0  0  0\n",
      "quattrocchi  19  1  1  1\n",
      "reynolds     22  0  0  0\n",
      "stetcher     15  0  0  0\n",
      "Adjusted Rand Index: 0.00\n"
     ]
    }
   ],
   "source": [
    "plt.scatter(X_train3[:, 0], X_train3[:,1], c=labels)\n",
    "plt.show()\n",
    "\n",
    "print('Comparing the assigned categories to the ones in the data:')\n",
    "print(pd.crosstab(y_train3,labels))\n",
    "print('Adjusted Rand Index: {:.2f}'.format(metrics.adjusted_rand_score(y_train3, labels)))"
   ]
  },
  {
   "cell_type": "markdown",
   "metadata": {},
   "source": [
    "## KMeans"
   ]
  },
  {
   "cell_type": "code",
   "execution_count": 199,
   "metadata": {},
   "outputs": [
    {
     "data": {
      "image/png": "[encoded data removed]",
      "text/plain": [
       "<Figure size 432x288 with 1 Axes>"
      ]
     },
     "metadata": {
      "needs_background": "light"
     },
     "output_type": "display_data"
    },
    {
     "name": "stdout",
     "output_type": "stream",
     "text": [
      "Comparing k-means clusters against the data:\n",
      "col_0         0   1   2  3   4  5  6   7   8  9\n",
      "author                                         \n",
      "dick          3   2   4  0  13  7  0   1  10  3\n",
      "harmon        2   1  10  5   0  1  4   4   1  1\n",
      "leiber        0   0   1  8   0  0  5   0   0  0\n",
      "leinster      4   0   3  1   0  0  4   7   0  5\n",
      "ludwig        0   7   3  1   4  3  1   4   3  2\n",
      "mckenty       0   0   0  1   2  0  0   5   0  3\n",
      "pohl         11   1  15  8   2  2  1  14   0  5\n",
      "quattrocchi   5   0   0  0   3  3  1   4   3  3\n",
      "reynolds      4  10   1  0   1  0  0   2   0  4\n",
      "stetcher      1   0   3  5   0  1  1   4   0  0\n",
      "Adjusted Rand Index: 0.08\n",
      "Silhouette Score: 0.13\n"
     ]
    }
   ],
   "source": [
    "# Calculate predicted values.\n",
    "y_pred = KMeans(n_clusters=10).fit_predict(X_train3)\n",
    "\n",
    "# Plot the solution.\n",
    "plt.scatter(X_train3[:, 0], X_train3[:, 1], c=y_pred)\n",
    "plt.show()\n",
    "\n",
    "# Check the solution against the data.\n",
    "print('Comparing k-means clusters against the data:')\n",
    "print(pd.crosstab(y_train3, y_pred))\n",
    "print('Adjusted Rand Index: {:.2f}'.format(metrics.adjusted_rand_score(y_train3, \n",
    "                                                                       y_pred)))\n",
    "print('Silhouette Score: {:.2f}'.format(metrics.silhouette_score(X_train3, \n",
    "                                                                y_pred, \n",
    "                                                                metric='euclidean')))\n"
   ]
  },
  {
   "cell_type": "markdown",
   "metadata": {},
   "source": [
    "## Spectral"
   ]
  },
  {
   "cell_type": "code",
   "execution_count": 200,
   "metadata": {},
   "outputs": [
    {
     "data": {
      "image/png": "[encoded data removed]",
      "text/plain": [
       "<Figure size 432x288 with 1 Axes>"
      ]
     },
     "metadata": {
      "needs_background": "light"
     },
     "output_type": "display_data"
    },
    {
     "name": "stdout",
     "output_type": "stream",
     "text": [
      "Comparing the assigned categories to the ones in the data:\n",
      "col_0         0   1   2  3   4   5\n",
      "author                            \n",
      "dick          0   0  13  8  18   4\n",
      "harmon       13   7   2  0   6   1\n",
      "leiber        5   9   0  0   0   0\n",
      "leinster      1  11   2  8   2   0\n",
      "ludwig        4   1   3  6   5   9\n",
      "mckenty       0   2   5  1   0   3\n",
      "pohl         11  12  17  2  11   6\n",
      "quattrocchi   1   2   9  4   5   1\n",
      "reynolds      0   0   0  8   0  14\n",
      "stetcher     14   0   0  0   1   0\n",
      "Adjusted Rand Index: 0.10\n",
      "Silhouette Score: 0.09\n"
     ]
    }
   ],
   "source": [
    "n_clusters=6\n",
    "\n",
    "# Declare and fit the model.\n",
    "sc = SpectralClustering(n_clusters=n_clusters)\n",
    "sc.fit(X_train3)\n",
    "\n",
    "#Predicted clusters.\n",
    "predict=sc.fit_predict(X_train3)\n",
    "\n",
    "#Graph results.\n",
    "plt.scatter(X_train3[:, 0], X_train3[:, 1], c=predict)\n",
    "plt.show()\n",
    "\n",
    "print('Comparing the assigned categories to the ones in the data:')\n",
    "print(pd.crosstab(y_train3,predict))\n",
    "print('Adjusted Rand Index: {:.2f}'.format(metrics.adjusted_rand_score(y_train3, \n",
    "                                                                       predict)))\n",
    "print('Silhouette Score: {:.2f}'.format(metrics.silhouette_score(X_train3, \n",
    "                                                                predict, \n",
    "                                                                metric='euclidean')))\n"
   ]
  },
  {
   "cell_type": "markdown",
   "metadata": {},
   "source": [
    "# Part of Speech and TFIDF"
   ]
  },
  {
   "cell_type": "code",
   "execution_count": null,
   "metadata": {},
   "outputs": [],
   "source": [
    "df.head()"
   ]
  },
  {
   "cell_type": "code",
   "execution_count": null,
   "metadata": {},
   "outputs": [],
   "source": [
    "X_both = df.drop(['word_count', 'all_count', 'text_sentences', 'text', 'author', 'index'], axis=1)\n",
    "\n",
    "X_train4, X_test4, y_train4, y_test4 = train_test_split(X_both, \n",
    "                                                    df['author'], \n",
    "                                                    test_size=0.25, \n",
    "                                                    random_state=0)\n",
    "\n",
    "#Our SVD data reducer.  We are going to reduce the feature space.\n",
    "svd= TruncatedSVD(100)\n",
    "lsa = make_pipeline(svd, Normalizer(copy=False))\n",
    "# Run SVD on the training data, then project the training data.\n",
    "X_train_lsa2 = lsa.fit_transform(X_train4)\n",
    "X_test_lsa2 = lsa.transform(X_test4)\n",
    "\n",
    "\n",
    "# Calculate predicted values.\n",
    "y_pred2 = KMeans(n_clusters=10).fit_predict(X_train_lsa2)\n",
    "\n",
    "# Plot the solution.\n",
    "plt.scatter(X_train_lsa2[:, 0], X_train_lsa2[:, 1], c=y_pred2)\n",
    "plt.title('Colors are predicted clusters')\n",
    "plt.show()\n",
    "\n",
    "le = LabelEncoder()\n",
    "y_train_enc = le.fit_transform(y_train4)\n",
    "y_test_enc = le.fit_transform(y_test4)\n",
    "\n",
    "sns.scatterplot(X_train_lsa2[:, 0], X_train_lsa2[:, 1], hue=y_train_enc, legend='full', palette='Set1')\n",
    "plt.title('Colors are actual authors')\n",
    "plt.show()\n",
    "# Check the solution against the data.\n",
    "print('Comparing k-means clusters against the data:')\n",
    "print(pd.crosstab(y_train4, y_pred2))\n",
    "print('\\nCrosstab with label encoded values.  Columns are clusters\\n')\n",
    "print(pd.crosstab(y_train_enc, y_pred2))\n",
    "print('Adjusted Rand Index: {:.2f}'.format(metrics.adjusted_rand_score(y_train4, \n",
    "                                                                       y_pred2)))\n",
    "print('Silhouette Score: {:.2f}'.format(metrics.silhouette_score(X_train4, \n",
    "                                                                y_pred2, \n",
    "                                                                metric='euclidean')))"
   ]
  },
  {
   "cell_type": "markdown",
   "metadata": {},
   "source": [
    "# TFIDF - no names included"
   ]
  },
  {
   "cell_type": "code",
   "execution_count": 110,
   "metadata": {},
   "outputs": [
    {
     "name": "stdout",
     "output_type": "stream",
     "text": [
      "Number of features: 2403\n"
     ]
    }
   ],
   "source": [
    "X_train_no_name, X_test_no_name, y_train_no_name, y_test_no_name = train_test_split(both_no_people, \n",
    "                                                                                    df['author'], \n",
    "                                                                                    test_size=0.25, \n",
    "                                                                                    random_state=0)\n",
    "\n",
    "vect_tfidf_no_name = TfidfVectorizer(max_df=0.75, # drop words that occur in more than this % of paragraphs\n",
    "                                     min_df=5, # only use words that appear at least 5 times\n",
    "                                     stop_words=STOP_WORDS, \n",
    "                                     lowercase=True, #convert everything to lower case\n",
    "                                     use_idf=True,#we definitely want to use inverse document frequencies in our weighting\n",
    "                                     norm=u'l2', #Applies a correction factor so that longer paragraphs and shorter paragraphs get treated equally\n",
    "                                     smooth_idf=True #Adds 1 to all document frequencies, as if an extra document existed that used every word once.  Prevents divide-by-zero errors\n",
    "                                    )\n",
    "\n",
    "\n",
    "#Applying the vectorizer\n",
    "tfidf2 = vect_tfidf_no_name.fit_transform(both_no_people)\n",
    "print(\"Number of features: %d\" % tfidf2.get_shape()[1])\n",
    "\n",
    "#splitting into training and test sets\n",
    "X_train_tfidf_no_name, X_test_tfidf_no_name = train_test_split(tfidf2, test_size=0.25, random_state=0)\n",
    "\n",
    "\n",
    "#Reshapes the vectorizer output into something people can read\n",
    "X_train_tfidf_csr2 = X_train_tfidf_no_name.tocsr()\n",
    "\n",
    "#number of paragraphs\n",
    "n = X_train_tfidf_csr2.shape[0]\n",
    "#A list of dictionaries, one per paragraph\n",
    "tfidf_bypara = [{} for _ in range(0,n)]\n",
    "#List of features\n",
    "terms = vect_tfidf_no_name.get_feature_names()\n",
    "#for each paragraph, lists the feature words and their tf-idf scores\n",
    "for i, j in zip(*X_train_tfidf_csr2.nonzero()):\n",
    "    tfidf_bypara[i][terms[j]] = X_train_tfidf_csr2[i, j]\n",
    "\n",
    "#Keep in mind that the log base 2 of 1 is 0, so a tf-idf score of 0 indicates that the word was present once in that sentence.\n",
    "#print('Original sentence:', X_train[1])\n",
    "#print('Tf_idf vector:', tfidf_bypara[1])"
   ]
  },
  {
   "cell_type": "code",
   "execution_count": 111,
   "metadata": {},
   "outputs": [],
   "source": [
    "df_tfidf2 = pd.DataFrame(tfidf2.toarray(), columns=list(terms))"
   ]
  },
  {
   "cell_type": "code",
   "execution_count": 316,
   "metadata": {},
   "outputs": [
    {
     "name": "stdout",
     "output_type": "stream",
     "text": [
      "Percent variance captured by all components: 45.51\n"
     ]
    }
   ],
   "source": [
    "#Our SVD data reducer.  We are going to reduce the feature space.\n",
    "svd2 = TruncatedSVD(200)\n",
    "lsa = make_pipeline(svd2, Normalizer(copy=False))\n",
    "# Run SVD on the training data, then project the training data.\n",
    "\n",
    "\n",
    "X_train_lsa2 = lsa.fit_transform(X_train_tfidf_no_name)\n",
    "X_test_lsa2 = lsa.transform(X_test_tfidf_no_name)\n",
    "\n",
    "variance_explained=svd.explained_variance_ratio_\n",
    "total_variance = variance_explained.sum()\n",
    "print(\"Percent variance captured by all components: {:.2f}\".format(total_variance*100))"
   ]
  },
  {
   "cell_type": "code",
   "execution_count": 176,
   "metadata": {},
   "outputs": [],
   "source": [
    "def k_means(n_cluster, Xtrain, ytrain, draw=False):\n",
    "    # Calculate predicted values.\n",
    "    km = KMeans(n_clusters=n_cluster)\n",
    "    y_pred = km.fit_predict(Xtrain)\n",
    "\n",
    "    if draw == True:\n",
    "        # Plot the solution.\n",
    "        plt.scatter(Xtrain[:, 0], Xtrain[:, 1], c=y_pred)\n",
    "        plt.title('Colors are predicted clusters')\n",
    "        plt.show()\n",
    "\n",
    "    le = LabelEncoder()\n",
    "    y_train_enc = le.fit_transform(ytrain)\n",
    "   \n",
    "    silhouette_score = metrics.silhouette_score(Xtrain, y_pred, metric='euclidean')\n",
    "    ari_score = metrics.adjusted_rand_score(ytrain, y_pred)\n",
    "            \n",
    "    if draw == True:\n",
    "        sns.scatterplot(Xtrain[:, 0], Xtrain[:, 1], hue=y_train_enc, legend='full', palette='Set1')\n",
    "        plt.title('Colors are actual authors')\n",
    "        plt.show()\n",
    "        # Check the solution against the data.\n",
    "        print('Comparing k-means clusters against the data:')\n",
    "        print(pd.crosstab(y_train2, y_pred))\n",
    "        print('\\nCrosstab with label encoded values.  Columns are clusters\\n')\n",
    "        print(pd.crosstab(y_train_enc, y_pred))\n",
    "        print('Adjusted Rand Index: {:.2f}'.format(ari_score))\n",
    "        print('Silhouette Score: {:.2f}'.format(silhouette_score))\n",
    "        \n",
    "        # https://scikit-learn.org/stable/auto_examples/text/plot_document_clustering.html#sphx-glr-auto-examples-text-plot-document-clustering-py\n",
    "        original_space_centroids = svd.inverse_transform(km.cluster_centers_)\n",
    "        order_centroids = original_space_centroids.argsort()[:, ::-1]\n",
    "\n",
    "        terms = vectorizer_tfidf.get_feature_names()\n",
    "        for i in range(n_cluster):\n",
    "            print(\"Cluster %d:\" % i, end='')\n",
    "            for ind in order_centroids[i, :12]:\n",
    "                print(' %s' % terms[ind], end='')\n",
    "            print()\n",
    "        \n",
    "    return ari_score, silhouette_score\n"
   ]
  },
  {
   "cell_type": "code",
   "execution_count": 196,
   "metadata": {},
   "outputs": [],
   "source": [
    "scores = []\n",
    "\n",
    "# Cross validation for printing number of clusters\n",
    "for cluster in range(2, 11):\n",
    "    ari = []\n",
    "    sil = []\n",
    "    # Average scores over 5 models, cross-validate\n",
    "    for i in range(1, 6):\n",
    "        ari_new, sil_new = k_means(cluster, X_train_lsa2, ytrain=y_train_no_name, draw=False)\n",
    "        ari.append(ari_new)\n",
    "        sil.append(sil_new)\n",
    "    ari_all = (np.mean(ari), np.std(ari))\n",
    "    sil_all = (np.mean(sil), np.std(sil))\n",
    "    scores.append((ari_all, sil_all, cluster))\n",
    "\n",
    "scores.sort(reverse=True)"
   ]
  },
  {
   "cell_type": "code",
   "execution_count": 197,
   "metadata": {},
   "outputs": [
    {
     "name": "stdout",
     "output_type": "stream",
     "text": [
      "((0.3475048710596352, 0.09186277177993342), (0.043590907472503646, 0.0015322905433290018), 8)\n",
      "((0.3223755165906037, 0.07674642823277641), (0.04650985987554807, 0.0023330597504317785), 10)\n",
      "((0.30882912130491313, 0.05989341757805513), (0.0467093787960718, 0.003466269375450395), 9)\n",
      "((0.2519654632456775, 0.050189399052328526), (0.04075077092585192, 0.0026848288684379854), 7)\n",
      "((0.2451521619051935, 0.09942962665150278), (0.03353851983076793, 0.0035628100596274944), 6)\n"
     ]
    }
   ],
   "source": [
    "for score in scores[:5]:\n",
    "    print(score)"
   ]
  },
  {
   "cell_type": "code",
   "execution_count": 198,
   "metadata": {},
   "outputs": [
    {
     "data": {
      "image/png": "[encoded data removed]",
      "text/plain": [
       "<Figure size 432x288 with 1 Axes>"
      ]
     },
     "metadata": {
      "needs_background": "light"
     },
     "output_type": "display_data"
    },
    {
     "data": {
      "image/png": "[encoded data removed]",
      "text/plain": [
       "<Figure size 432x288 with 1 Axes>"
      ]
     },
     "metadata": {
      "needs_background": "light"
     },
     "output_type": "display_data"
    },
    {
     "name": "stdout",
     "output_type": "stream",
     "text": [
      "Comparing k-means clusters against the data:\n",
      "col_0         0   1   2   3   4   5   6  7\n",
      "author                                    \n",
      "dick         33   5   0   4   0   1   0  0\n",
      "harmon        0  28   0   1   0   0   0  0\n",
      "leiber        0   4   0  10   0   0   0  0\n",
      "leinster      0   1   0   2  13   0   0  8\n",
      "ludwig        0   5   0   4   0   0  19  0\n",
      "mckenty       0   1  10   0   0   0   0  0\n",
      "pohl          0  15   3   7   0  34   0  0\n",
      "quattrocchi   0  15   0   7   0   0   0  0\n",
      "reynolds      0  22   0   0   0   0   0  0\n",
      "stetcher      0  15   0   0   0   0   0  0\n",
      "\n",
      "Crosstab with label encoded values.  Columns are clusters\n",
      "\n",
      "col_0   0   1   2   3   4   5   6  7\n",
      "row_0                               \n",
      "0      33   5   0   4   0   1   0  0\n",
      "1       0  28   0   1   0   0   0  0\n",
      "2       0   4   0  10   0   0   0  0\n",
      "3       0   1   0   2  13   0   0  8\n",
      "4       0   5   0   4   0   0  19  0\n",
      "5       0   1  10   0   0   0   0  0\n",
      "6       0  15   3   7   0  34   0  0\n",
      "7       0  15   0   7   0   0   0  0\n",
      "8       0  22   0   0   0   0   0  0\n",
      "9       0  15   0   0   0   0   0  0\n",
      "Adjusted Rand Index: 0.28\n",
      "Silhouette Score: 0.04\n",
      "Cluster 0: slightly however bother anyone casually chinese prepare pot summer joke system exchange\n",
      "Cluster 1: human journey into insignificant solemnly source ruin ought pleasure swarm real brightly\n",
      "Cluster 2: derek galaxy quickly ball bunker chinese sister agreement insect result crowd call\n",
      "Cluster 3: memory service aged insignificant human chinese insect tension funny bedroom smoke science\n",
      "Cluster 4: real deeth outside can mission airport lunch aged science nation resent green\n",
      "Cluster 5: humanoid below isolate ease human brinton insignificant journey into solemnly meat combination\n",
      "Cluster 6: brightly inhabit repeat skill insignificant dig fancy remove pond right term mills\n",
      "Cluster 7: least group leather body nonsense spot hotel sport insignificant into claw cinq\n"
     ]
    },
    {
     "data": {
      "text/plain": [
       "(0.27572882239850993, 0.041305638747391016)"
      ]
     },
     "execution_count": 198,
     "metadata": {},
     "output_type": "execute_result"
    }
   ],
   "source": [
    "k_means(8, X_train_lsa2, ytrain=y_train_no_name, draw=True)"
   ]
  },
  {
   "cell_type": "code",
   "execution_count": 205,
   "metadata": {},
   "outputs": [
    {
     "data": {
      "image/png": "[encoded data removed]",
      "text/plain": [
       "<Figure size 432x288 with 1 Axes>"
      ]
     },
     "metadata": {
      "needs_background": "light"
     },
     "output_type": "display_data"
    },
    {
     "name": "stdout",
     "output_type": "stream",
     "text": [
      "Comparing k-means clusters against the data:\n",
      "col_0         0  1  2  3  4  5  6  7\n",
      "author                              \n",
      "dick          1  1  0  0  0  8  0  1\n",
      "harmon        6  0  0  0  0  0  8  0\n",
      "leiber        1  2  0  0  0  0  0  2\n",
      "leinster      0  0  1  0  2  0  0  0\n",
      "ludwig        2  2  0  8  0  0  0  0\n",
      "mckenty       1  0  0  0  0  0  0  5\n",
      "pohl         11  0  0  0  0  0  1  6\n",
      "quattrocchi   0  3  0  0  0  0  6  3\n",
      "reynolds      0  1  0  0  0  0  3  0\n",
      "stetcher      0  4  0  0  0  0  0  0\n"
     ]
    }
   ],
   "source": [
    "km = KMeans(n_clusters=8)\n",
    "km.fit(X_train_lsa2)\n",
    "y_pred_test = km.predict(X_test_lsa2)\n",
    "\n",
    "\n",
    "# Plot the solution.\n",
    "plt.scatter(X_test_lsa2[:, 0], X_test_lsa2[:, 1], c=y_pred_test)\n",
    "plt.title('Colors are predicted clusters')\n",
    "plt.show()\n",
    "print('Comparing k-means clusters against the data:')\n",
    "print(pd.crosstab(y_test2, y_pred_test))"
   ]
  },
  {
   "cell_type": "markdown",
   "metadata": {},
   "source": [
    "# Classifiers"
   ]
  },
  {
   "cell_type": "markdown",
   "metadata": {},
   "source": [
    "## TFIDF, random forest"
   ]
  },
  {
   "cell_type": "code",
   "execution_count": 213,
   "metadata": {},
   "outputs": [
    {
     "name": "stdout",
     "output_type": "stream",
     "text": [
      "Training set score: 1.0\n",
      "\n",
      "Test set score: 0.8539325842696629\n"
     ]
    }
   ],
   "source": [
    "rfc = RandomForestClassifier(n_estimators=500)\n",
    "\n",
    "train = rfc.fit(X_train_tfidf, y_train)\n",
    "\n",
    "print('Training set score:', rfc.score(X_train_tfidf, y_train))\n",
    "print('\\nTest set score:', rfc.score(X_test_tfidf, y_test))"
   ]
  },
  {
   "cell_type": "markdown",
   "metadata": {},
   "source": [
    "## TFIDF, logistic regression"
   ]
  },
  {
   "cell_type": "code",
   "execution_count": 275,
   "metadata": {},
   "outputs": [],
   "source": [
    "X_train2, X_test2, y_train2, y_test2 = train_test_split(df_tfidf, \n",
    "                                                    df['author'], \n",
    "                                                    test_size=0.25, \n",
    "                                                    random_state=0)\n",
    "\n",
    "#Our SVD data reducer.  We are going to reduce the feature space.\n",
    "svd= TruncatedSVD(50)\n",
    "lsa = make_pipeline(svd, Normalizer(copy=False))\n",
    "# Run SVD on the training data, then project the training data.\n",
    "X_train_lsa = lsa.fit_transform(X_train2)\n",
    "X_test_lsa = lsa.transform(X_test2)"
   ]
  },
  {
   "cell_type": "code",
   "execution_count": 276,
   "metadata": {
    "scrolled": true
   },
   "outputs": [
    {
     "name": "stdout",
     "output_type": "stream",
     "text": [
      "Training set score: 0.9962546816479401\n",
      "\n",
      "Test set score: 1.0\n"
     ]
    },
    {
     "data": {
      "image/png": "[encoded data removed]",
      "text/plain": [
       "<Figure size 432x288 with 1 Axes>"
      ]
     },
     "metadata": {
      "needs_background": "light"
     },
     "output_type": "display_data"
    }
   ],
   "source": [
    "lr = LogisticRegression(solver='lbfgs', multi_class='ovr', C=1.0)\n",
    "y_train_enc = le.fit_transform(y_train2)\n",
    "y_test_enc = le.transform(y_test2)\n",
    "train = lr.fit(X_train_lsa, y_train_enc)\n",
    "\n",
    "y_pred_lsa = lr.predict(X_test_lsa)\n",
    "\n",
    "print('Training set score:', lr.score(X_train_lsa, y_train_enc))\n",
    "print('\\nTest set score:', lr.score(X_test_lsa, y_test_enc))\n",
    "\n",
    "plt.scatter(y_pred_lsa, y_test_enc)\n",
    "plt.show()"
   ]
  },
  {
   "cell_type": "code",
   "execution_count": 277,
   "metadata": {},
   "outputs": [
    {
     "name": "stdout",
     "output_type": "stream",
     "text": [
      "Training set score: 0.9887640449438202\n",
      "\n",
      "Test set score: 0.9662921348314607\n"
     ]
    },
    {
     "data": {
      "text/plain": [
       "[]"
      ]
     },
     "execution_count": 277,
     "metadata": {},
     "output_type": "execute_result"
    },
    {
     "data": {
      "image/png": "[encoded data removed]",
      "text/plain": [
       "<Figure size 432x288 with 1 Axes>"
      ]
     },
     "metadata": {
      "needs_background": "light"
     },
     "output_type": "display_data"
    }
   ],
   "source": [
    "# Look at text instead of author, see if we can predict that\n",
    "y_train6, y_test6 = train_test_split(df['text'], test_size=0.25, random_state=0)\n",
    "\n",
    "y_train_enc = le.fit_transform(y_train6)\n",
    "y_test_enc = le.transform(y_test6)\n",
    "\n",
    "\n",
    "lr = LogisticRegression(solver='lbfgs', multi_class='ovr', C=1)\n",
    "train = lr.fit(X_train_lsa, y_train_enc)\n",
    "y_pred_lsa = lr.predict(X_test_lsa)\n",
    "\n",
    "print('Training set score:', lr.score(X_train_lsa, y_train_enc))\n",
    "print('\\nTest set score:', lr.score(X_test_lsa, y_test_enc))\n",
    "\n",
    "plt.scatter(y_pred_lsa, y_test_enc)\n",
    "plt.xlabel('Predicted Text')\n",
    "plt.ylabel('Acutal Text')\n",
    "plt.plot()"
   ]
  },
  {
   "cell_type": "code",
   "execution_count": 256,
   "metadata": {},
   "outputs": [
    {
     "name": "stdout",
     "output_type": "stream",
     "text": [
      "predicted text, actual text\n",
      "pohl2 - ludwig3\n",
      "pohl2 - harmon2\n",
      "pohl2 - harmon2\n",
      "pohl2 - harmon2\n"
     ]
    }
   ],
   "source": [
    " print('predicted text, actual text')\n",
    "for i in range(len(y_pred_lsa)):\n",
    "    predicted = y_pred_lsa[i]\n",
    "    actual = y_test_enc[i]\n",
    "    if predicted != actual:\n",
    "        try:\n",
    "            print('{} - {}'.format(list(le.inverse_transform([predicted]))[0], \n",
    "                               list(le.inverse_transform([actual]))[0]))\n",
    "        except:\n",
    "            print('Transform issue')"
   ]
  },
  {
   "cell_type": "markdown",
   "metadata": {},
   "source": [
    "## Part of speech - logistic regression"
   ]
  },
  {
   "cell_type": "code",
   "execution_count": 261,
   "metadata": {
    "scrolled": true
   },
   "outputs": [
    {
     "name": "stdout",
     "output_type": "stream",
     "text": [
      "Training set score: 0.3146067415730337\n",
      "\n",
      "Test set score: 0.2808988764044944\n"
     ]
    },
    {
     "data": {
      "image/png": "[encoded data removed]",
      "text/plain": [
       "<Figure size 432x288 with 1 Axes>"
      ]
     },
     "metadata": {
      "needs_background": "light"
     },
     "output_type": "display_data"
    }
   ],
   "source": [
    "lr = LogisticRegression(solver='lbfgs', multi_class='ovr')\n",
    "y_train_enc = le.fit_transform(y_train3)\n",
    "y_test_enc = le.transform(y_test3)\n",
    "\n",
    "train = lr.fit(X_train3, y_train_enc)\n",
    "\n",
    "y_pred_pos_train = lr.predict(X_train3)\n",
    "y_pred_pos = lr.predict(X_test3)\n",
    "\n",
    "print('Training set score:', lr.score(X_train3, y_train_enc))\n",
    "print('\\nTest set score:', lr.score(X_test3, y_test_enc))\n",
    "\n",
    "plt.scatter(y_pred_pos_train, y_train_enc)\n",
    "plt.show()"
   ]
  },
  {
   "cell_type": "code",
   "execution_count": 280,
   "metadata": {},
   "outputs": [
    {
     "name": "stdout",
     "output_type": "stream",
     "text": [
      "Training set score: 0.8539325842696629\n",
      "\n",
      "Test set score: 0.5842696629213483\n"
     ]
    },
    {
     "data": {
      "image/png": "[encoded data removed]",
      "text/plain": [
       "<Figure size 432x288 with 1 Axes>"
      ]
     },
     "metadata": {
      "needs_background": "light"
     },
     "output_type": "display_data"
    }
   ],
   "source": [
    "lr = LogisticRegression(solver='lbfgs', multi_class='ovr')\n",
    "\n",
    "train = lr.fit(X_train_lsa2, y_train_enc)\n",
    "\n",
    "y_pred_pos_train = lr.predict(X_train_lsa2)\n",
    "y_pred_pos = lr.predict(X_test_lsa2)\n",
    "\n",
    "print('Training set score:', lr.score(X_train_lsa2, y_train_enc))\n",
    "print('\\nTest set score:', lr.score(X_test_lsa2, y_test_enc))\n",
    "\n",
    "plt.scatter(y_pred_pos, y_test_enc)\n",
    "plt.xlabel('Predicted Text')\n",
    "plt.ylabel('Actual Text')\n",
    "plt.show()"
   ]
  },
  {
   "cell_type": "code",
   "execution_count": 281,
   "metadata": {},
   "outputs": [
    {
     "data": {
      "text/plain": [
       "'pohl2'"
      ]
     },
     "execution_count": 281,
     "metadata": {},
     "output_type": "execute_result"
    }
   ],
   "source": [
    "list(le.inverse_transform([15]))[0]"
   ]
  },
  {
   "cell_type": "code",
   "execution_count": 283,
   "metadata": {},
   "outputs": [
    {
     "data": {
      "text/plain": [
       "53"
      ]
     },
     "execution_count": 283,
     "metadata": {},
     "output_type": "execute_result"
    }
   ],
   "source": [
    "(df['text']=='pohl2').sum()"
   ]
  },
  {
   "cell_type": "code",
   "execution_count": 285,
   "metadata": {},
   "outputs": [
    {
     "name": "stdout",
     "output_type": "stream",
     "text": [
      "Training set score: 1.0\n",
      "\n",
      "Test set score: 0.7640449438202247\n"
     ]
    }
   ],
   "source": [
    "rfc = RandomForestClassifier(n_estimators=500)\n",
    "\n",
    "train = rfc.fit(X_train_lsa2, y_train)\n",
    "\n",
    "print('Training set score:', rfc.score(X_train_lsa2, y_train))\n",
    "print('\\nTest set score:', rfc.score(X_test_lsa2, y_test))"
   ]
  },
  {
   "cell_type": "code",
   "execution_count": 320,
   "metadata": {},
   "outputs": [
    {
     "data": {
      "text/plain": [
       "array([0.01783232, 0.0768541 , 0.05573369, 0.05932187, 0.04311489,\n",
       "       0.02627862, 0.04484815, 0.03117058, 0.02170541, 0.02645126,\n",
       "       0.01453257, 0.01476282, 0.01632398, 0.01405683, 0.0124148 ,\n",
       "       0.01168071, 0.01234878, 0.0084746 , 0.01005934, 0.00647878,\n",
       "       0.00925135, 0.00555697, 0.00967138, 0.00923964, 0.00444719,\n",
       "       0.00450202, 0.00463867, 0.00467232, 0.00498898, 0.00432679,\n",
       "       0.00416295, 0.0027988 , 0.00399922, 0.00284934, 0.00477091,\n",
       "       0.00356776, 0.00399111, 0.00365584, 0.00339253, 0.00235862,\n",
       "       0.00284062, 0.00211364, 0.00284575, 0.00198901, 0.00270643,\n",
       "       0.00257671, 0.00396644, 0.00354288, 0.00231926, 0.00219438,\n",
       "       0.00303277, 0.00269824, 0.00372253, 0.00228635, 0.00189545,\n",
       "       0.00264997, 0.00249605, 0.00292917, 0.00252478, 0.00232564,\n",
       "       0.00312327, 0.00239737, 0.00276505, 0.00185265, 0.00220388,\n",
       "       0.00191977, 0.00234844, 0.00358057, 0.0025025 , 0.00212588,\n",
       "       0.00225287, 0.0022369 , 0.0028793 , 0.00291959, 0.00285453,\n",
       "       0.00265127, 0.00248957, 0.00233453, 0.00196394, 0.00219726,\n",
       "       0.00213348, 0.00312284, 0.00301391, 0.00203026, 0.00273361,\n",
       "       0.00215429, 0.00224366, 0.0021994 , 0.00230855, 0.00202429,\n",
       "       0.00217542, 0.00222146, 0.00269639, 0.00325788, 0.00258203,\n",
       "       0.00186624, 0.0024428 , 0.00244771, 0.00243783, 0.00269232,\n",
       "       0.00225661, 0.00214893, 0.00367521, 0.00222319, 0.00264088,\n",
       "       0.00213728, 0.00262724, 0.00291379, 0.00226438, 0.00186681,\n",
       "       0.00192467, 0.00229195, 0.00329557, 0.00232085, 0.00265453,\n",
       "       0.00194103, 0.00226011, 0.00255657, 0.00271174, 0.00231532,\n",
       "       0.00214743, 0.00242252, 0.00254832, 0.00233391, 0.0024075 ,\n",
       "       0.00239965, 0.00222788, 0.00229093, 0.002735  , 0.0020239 ,\n",
       "       0.00180278, 0.0025758 , 0.00178537, 0.00154612, 0.00203803,\n",
       "       0.00231068, 0.00211265, 0.00273131, 0.00267892, 0.00250431,\n",
       "       0.0024357 , 0.00248714, 0.00187518, 0.00264012, 0.00221359,\n",
       "       0.00158013, 0.00243036, 0.00182654, 0.00179649, 0.00170814,\n",
       "       0.00234966, 0.00216734, 0.0023908 , 0.00265306, 0.00195573,\n",
       "       0.00172845, 0.00211241, 0.00212457, 0.00183162, 0.00220917,\n",
       "       0.00186937, 0.00184808, 0.00284937, 0.00268896, 0.00251953,\n",
       "       0.00227402, 0.00191642, 0.00214911, 0.00249861, 0.00197614,\n",
       "       0.00229442, 0.00247863, 0.00233818, 0.00261595, 0.00257523,\n",
       "       0.00200472, 0.0017873 , 0.0025946 , 0.0021536 , 0.00297694,\n",
       "       0.00193787, 0.00166083, 0.00240225, 0.00253547, 0.00233561,\n",
       "       0.00202925, 0.00266498, 0.00180196, 0.00220868, 0.00299604,\n",
       "       0.00210802, 0.00222584, 0.00149639, 0.00195332, 0.00210842,\n",
       "       0.00228516, 0.00218684, 0.00200267, 0.00201347, 0.00214583])"
      ]
     },
     "execution_count": 320,
     "metadata": {},
     "output_type": "execute_result"
    }
   ],
   "source": [
    "rfc.feature_importances_"
   ]
  },
  {
   "cell_type": "code",
   "execution_count": 386,
   "metadata": {},
   "outputs": [],
   "source": [
    "tfidf_indices = svd2.inverse_transform(indices.reshape(1, -1))\n",
    "\n",
    "terms = vect_tfidf_no_name.get_feature_names()\n",
    "\n",
    "#for ind in important_terms[0, :10]:\n",
    "#    print('{} '.format(terms[ind]))"
   ]
  },
  {
   "cell_type": "code",
   "execution_count": 388,
   "metadata": {},
   "outputs": [
    {
     "data": {
      "text/plain": [
       "array([[ 59.04999431,  -3.96408228, -10.4677327 , ...,   0.33140849,\n",
       "         23.21830551,  -7.03782257]])"
      ]
     },
     "execution_count": 388,
     "metadata": {},
     "output_type": "execute_result"
    }
   ],
   "source": [
    "tfidf_indices"
   ]
  },
  {
   "cell_type": "code",
   "execution_count": 355,
   "metadata": {},
   "outputs": [
    {
     "name": "stdout",
     "output_type": "stream",
     "text": [
      "Feature ranking:\n",
      "1. feature 1 (0.07685410377584169) abandon\n",
      "2. feature 3 (0.059321869795285725) able\n",
      "3. feature 2 (0.055733690283890615) ability\n",
      "4. feature 6 (0.04484815028990559) absently\n",
      "5. feature 4 (0.04311489063001102) aboard\n",
      "6. feature 7 (0.031170580073241222) absolute\n",
      "7. feature 9 (0.026451264858685906) absorb\n",
      "8. feature 5 (0.026278624142588042) abruptly\n",
      "9. feature 8 (0.021705412285820045) absolutely\n",
      "10. feature 0 (0.01783232195598319) 15th\n"
     ]
    },
    {
     "data": {
      "image/png": "[encoded data removed]",
      "text/plain": [
       "<Figure size 432x288 with 1 Axes>"
      ]
     },
     "metadata": {
      "needs_background": "light"
     },
     "output_type": "display_data"
    }
   ],
   "source": [
    "# Back to tfidf\n",
    "importances = rfc.feature_importances_\n",
    "indices = np.argsort(importances)[::-1]\n",
    "\n",
    "# Print the feature ranking\n",
    "print(\"Feature ranking:\")\n",
    "\n",
    "terms = vect_tfidf_no_name.get_feature_names()\n",
    "\n",
    "for f in range(10):\n",
    "    print('{}. feature {} ({}) {}'.format((f+1), indices[f], importances[indices[f]], terms[indices[f]]))\n",
    "\n",
    "# Plot the feature importances of the forest\n",
    "plt.figure()\n",
    "plt.title(\"Feature importances\")\n",
    "plt.bar(range(0,20), importances[indices][:20], color=\"r\", align=\"center\")\n",
    "plt.xticks(range(20), indices)\n",
    "plt.xlim([-1, 20])\n",
    "plt.show()\n"
   ]
  },
  {
   "cell_type": "code",
   "execution_count": 356,
   "metadata": {},
   "outputs": [
    {
     "data": {
      "text/plain": [
       "2403"
      ]
     },
     "execution_count": 356,
     "metadata": {},
     "output_type": "execute_result"
    }
   ],
   "source": [
    "len(terms)"
   ]
  },
  {
   "cell_type": "code",
   "execution_count": null,
   "metadata": {},
   "outputs": [],
   "source": []
  }
 ],
 "metadata": {
  "kernelspec": {
   "display_name": "Python 3",
   "language": "python",
   "name": "python3"
  },
  "language_info": {
   "codemirror_mode": {
    "name": "ipython",
    "version": 3
   },
   "file_extension": ".py",
   "mimetype": "text/x-python",
   "name": "python",
   "nbconvert_exporter": "python",
   "pygments_lexer": "ipython3",
   "version": "3.7.0"
  }
 },
 "nbformat": 4,
 "nbformat_minor": 2
}
